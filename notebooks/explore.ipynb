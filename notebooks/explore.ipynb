{
 "cells": [
  {
   "cell_type": "code",
   "id": "3db9a370-3f21-49b6-a6be-e414f03d1e61",
   "metadata": {
    "ExecuteTime": {
     "end_time": "2024-11-27T10:59:22.704638Z",
     "start_time": "2024-11-27T10:59:20.868991Z"
    }
   },
   "source": [
    "from pandas.core.interchange.dataframe_protocol import DataFrame\n",
    "# ============================================================\n",
    "# Notebook setup: run this before everything\n",
    "# ============================================================\n",
    "# -- Copied from lecture\n",
    "%load_ext autoreload\n",
    "%config IPCompleter.greedy=True\n",
    "%autoreload 1\n",
    "%aimport util\n",
    "from util import util\n",
    "import numpy as np\n",
    "# from matplotlib import pyplot as plt\n",
    "import pandas as pd\n",
    "from sklearn.neighbors import KernelDensity\n",
    "from sklearn.metrics import mean_squared_error\n",
    "from IPython.display import display\n",
    "from collections import Counter\n",
    "\n",
    "\n",
    "# Only if environment does not support explicit display, like Pycharm\n",
    "display = print\n",
    "\n",
    "# Control figure size\n",
    "interactive_figures = False\n",
    "if interactive_figures:\n",
    "    # Normal behavior\n",
    "    %matplotlib widget\n",
    "    figsize=(9, 3)\n",
    "else:\n",
    "    # PDF export behavior\n",
    "    figsize=(14, 4)\n",
    "\n",
    "data_folder = '../resources/dataset'\n",
    "file_name = '7_gecco2019_train_water_quality.csv'\n",
    "# Load the input data\n",
    "data_path = f'{data_folder}/{file_name}'\n",
    "data = pd.read_csv(data_path)\n",
    "data['Time'] = pd.to_datetime(data['Time'])\n",
    "data.set_index('Time', inplace=True)\n",
    "data = data.drop(columns=[\"Unnamed: 0\"]) # The index was stored as an unnamed column"
   ],
   "outputs": [],
   "execution_count": 1
  },
  {
   "cell_type": "markdown",
   "id": "7676a778-7405-42c0-8f70-e76103151c92",
   "metadata": {},
   "source": [
    "# Missing Values\n",
    "## Investigation"
   ]
  },
  {
   "cell_type": "code",
   "id": "d0cc4880-10e7-4f49-bedb-e873f3f92b1f",
   "metadata": {
    "ExecuteTime": {
     "end_time": "2024-11-27T10:59:22.728407Z",
     "start_time": "2024-11-27T10:59:22.715415Z"
    }
   },
   "source": [
    "print(\"Columns: \")\n",
    "{column: data[column].dtype for column in data.columns}"
   ],
   "outputs": [
    {
     "name": "stdout",
     "output_type": "stream",
     "text": [
      "Columns: \n"
     ]
    },
    {
     "data": {
      "text/plain": [
       "{'Tp': dtype('float64'),\n",
       " 'pH': dtype('float64'),\n",
       " 'Cond': dtype('float64'),\n",
       " 'Turb': dtype('float64'),\n",
       " 'SAC': dtype('float64'),\n",
       " 'PFM': dtype('float64'),\n",
       " 'Event': dtype('bool')}"
      ]
     },
     "execution_count": 2,
     "metadata": {},
     "output_type": "execute_result"
    }
   ],
   "execution_count": 2
  },
  {
   "cell_type": "code",
   "id": "ecd3101feeb91e49",
   "metadata": {
    "ExecuteTime": {
     "end_time": "2024-11-27T10:59:22.983759Z",
     "start_time": "2024-11-27T10:59:22.960468Z"
    }
   },
   "source": [
    "display((data.index[1:] - data.index[:-1]).value_counts())\n",
    "print(\"\\nTherefore, there exists a sample for each timeslot.\")\n",
    "print(\"However, all columns themselves except for the label column contain missing values: \\n\")\n",
    "display(data.isna().any())\n",
    "data.loc[data.isna().any(axis=1)].head()"
   ],
   "outputs": [
    {
     "name": "stdout",
     "output_type": "stream",
     "text": [
      "Time\n",
      "0 days 00:01:00    132479\n",
      "Name: count, dtype: int64\n",
      "\n",
      "Therefore, there exists a sample for each timeslot.\n",
      "However, all columns themselves except for the label column contain missing values: \n",
      "\n",
      "Tp        True\n",
      "pH        True\n",
      "Cond      True\n",
      "Turb      True\n",
      "SAC       True\n",
      "PFM       True\n",
      "Event    False\n",
      "dtype: bool\n"
     ]
    },
    {
     "data": {
      "text/plain": [
       "                      Tp       pH      Cond      Turb      SAC      PFM  Event\n",
       "Time                                                                          \n",
       "2017-07-01 13:24:00  NaN      NaN       NaN       NaN      NaN      NaN  False\n",
       "2017-07-01 17:00:00  NaN  8.58873       NaN  0.126537  3.58901      NaN  False\n",
       "2017-07-02 22:08:00  NaN      NaN       NaN       NaN      NaN      NaN  False\n",
       "2017-07-03 01:46:00  7.1  8.55185  0.021717       NaN      NaN  44.7191  False\n",
       "2017-07-03 05:23:00  NaN      NaN       NaN       NaN      NaN      NaN  False"
      ],
      "text/html": [
       "<div>\n",
       "<style scoped>\n",
       "    .dataframe tbody tr th:only-of-type {\n",
       "        vertical-align: middle;\n",
       "    }\n",
       "\n",
       "    .dataframe tbody tr th {\n",
       "        vertical-align: top;\n",
       "    }\n",
       "\n",
       "    .dataframe thead th {\n",
       "        text-align: right;\n",
       "    }\n",
       "</style>\n",
       "<table border=\"1\" class=\"dataframe\">\n",
       "  <thead>\n",
       "    <tr style=\"text-align: right;\">\n",
       "      <th></th>\n",
       "      <th>Tp</th>\n",
       "      <th>pH</th>\n",
       "      <th>Cond</th>\n",
       "      <th>Turb</th>\n",
       "      <th>SAC</th>\n",
       "      <th>PFM</th>\n",
       "      <th>Event</th>\n",
       "    </tr>\n",
       "    <tr>\n",
       "      <th>Time</th>\n",
       "      <th></th>\n",
       "      <th></th>\n",
       "      <th></th>\n",
       "      <th></th>\n",
       "      <th></th>\n",
       "      <th></th>\n",
       "      <th></th>\n",
       "    </tr>\n",
       "  </thead>\n",
       "  <tbody>\n",
       "    <tr>\n",
       "      <th>2017-07-01 13:24:00</th>\n",
       "      <td>NaN</td>\n",
       "      <td>NaN</td>\n",
       "      <td>NaN</td>\n",
       "      <td>NaN</td>\n",
       "      <td>NaN</td>\n",
       "      <td>NaN</td>\n",
       "      <td>False</td>\n",
       "    </tr>\n",
       "    <tr>\n",
       "      <th>2017-07-01 17:00:00</th>\n",
       "      <td>NaN</td>\n",
       "      <td>8.58873</td>\n",
       "      <td>NaN</td>\n",
       "      <td>0.126537</td>\n",
       "      <td>3.58901</td>\n",
       "      <td>NaN</td>\n",
       "      <td>False</td>\n",
       "    </tr>\n",
       "    <tr>\n",
       "      <th>2017-07-02 22:08:00</th>\n",
       "      <td>NaN</td>\n",
       "      <td>NaN</td>\n",
       "      <td>NaN</td>\n",
       "      <td>NaN</td>\n",
       "      <td>NaN</td>\n",
       "      <td>NaN</td>\n",
       "      <td>False</td>\n",
       "    </tr>\n",
       "    <tr>\n",
       "      <th>2017-07-03 01:46:00</th>\n",
       "      <td>7.1</td>\n",
       "      <td>8.55185</td>\n",
       "      <td>0.021717</td>\n",
       "      <td>NaN</td>\n",
       "      <td>NaN</td>\n",
       "      <td>44.7191</td>\n",
       "      <td>False</td>\n",
       "    </tr>\n",
       "    <tr>\n",
       "      <th>2017-07-03 05:23:00</th>\n",
       "      <td>NaN</td>\n",
       "      <td>NaN</td>\n",
       "      <td>NaN</td>\n",
       "      <td>NaN</td>\n",
       "      <td>NaN</td>\n",
       "      <td>NaN</td>\n",
       "      <td>False</td>\n",
       "    </tr>\n",
       "  </tbody>\n",
       "</table>\n",
       "</div>"
      ]
     },
     "execution_count": 3,
     "metadata": {},
     "output_type": "execute_result"
    }
   ],
   "execution_count": 3
  },
  {
   "metadata": {},
   "cell_type": "markdown",
   "source": "As we can see, there are quite a few missing values in our dataset. We will characterize the distribution in which they show up.",
   "id": "db4644d7de1903b5"
  },
  {
   "metadata": {
    "ExecuteTime": {
     "end_time": "2024-11-27T10:59:23.062923Z",
     "start_time": "2024-11-27T10:59:23.046229Z"
    }
   },
   "cell_type": "code",
   "source": [
    "for column in data.drop(columns=[\"Event\"]).columns:\n",
    "    print()\n",
    "    print(\"Column:\", util.bold(column))\n",
    "    series = util.calculate_na_series(data[column])\n",
    "    print(dict(Counter(map(int, series[:, 1]))))"
   ],
   "id": "df02e7239ec31b50",
   "outputs": [
    {
     "name": "stdout",
     "output_type": "stream",
     "text": [
      "\n",
      "Column: \u001B[1mTp\u001B[0m\n",
      "{1: 201, 3: 1, 10: 1}\n",
      "\n",
      "Column: \u001B[1mpH\u001B[0m\n",
      "{1: 195, 3: 1, 10: 1}\n",
      "\n",
      "Column: \u001B[1mCond\u001B[0m\n",
      "{1: 191, 3: 1, 10: 1}\n",
      "\n",
      "Column: \u001B[1mTurb\u001B[0m\n",
      "{1: 195, 10: 1}\n",
      "\n",
      "Column: \u001B[1mSAC\u001B[0m\n",
      "{1: 188, 2: 1, 10: 1}\n",
      "\n",
      "Column: \u001B[1mPFM\u001B[0m\n",
      "{1: 198, 3: 1, 10: 1}\n"
     ]
    }
   ],
   "execution_count": 4
  },
  {
   "metadata": {},
   "cell_type": "markdown",
   "source": [
    "We see that most missing values just come up randomly and not in a bunch.\n",
    "The segments of 10 consecutive NA values across all columns seems suspicious though.\n",
    "\n",
    "Let's see if this is the same for all."
   ],
   "id": "d098c78b3e931ee9"
  },
  {
   "metadata": {
    "ExecuteTime": {
     "end_time": "2024-11-27T10:59:23.140495Z",
     "start_time": "2024-11-27T10:59:23.127385Z"
    }
   },
   "cell_type": "code",
   "source": [
    "collective_na_series = util.calculate_true_series(data.drop(columns=\"Event\").isna().to_numpy().all(axis=1))\n",
    "collective_na_series[collective_na_series[:,1] > 1]"
   ],
   "id": "f2ddd2d5d2a29715",
   "outputs": [
    {
     "data": {
      "text/plain": [
       "array([[78550,    10]])"
      ]
     },
     "execution_count": 5,
     "metadata": {},
     "output_type": "execute_result"
    }
   ],
   "execution_count": 5
  },
  {
   "metadata": {},
   "cell_type": "markdown",
   "source": [
    "Indeed, we see that there is only one index with a series of timestamps where all entries are 0 (that is more than timeslot long).\n",
    "It starts at index 78550.\n",
    "\n",
    "Since most of them however, just come up individually, we would expect that naive filling algorithms should perform well enough as more complex ones.\n",
    "\n",
    "By the way, respectively the other series' with more than one consecutive Na look like this. Note that all of them are classified as an anomaly."
   ],
   "id": "abc3bbdd59a6e0c0"
  },
  {
   "metadata": {
    "ExecuteTime": {
     "end_time": "2024-11-27T10:59:23.201997Z",
     "start_time": "2024-11-27T10:59:23.176106Z"
    }
   },
   "cell_type": "code",
   "source": [
    "for column in data.drop(columns=\"Event\").columns:\n",
    "    print()\n",
    "    longer_segments = series[np.logical_and(series[:, 1] > 1, series[:, 1] < 10)]\n",
    "    display([data.iloc[i:i+l] for i, l in longer_segments])"
   ],
   "id": "f9e2f726257e8259",
   "outputs": [
    {
     "name": "stdout",
     "output_type": "stream",
     "text": [
      "\n",
      "[                     Tp  pH  Cond      Turb      SAC  PFM  Event\n",
      "Time                                                            \n",
      "2017-08-24 12:42:00 NaN NaN   NaN  0.153299  4.24212  NaN   True\n",
      "2017-08-24 12:43:00 NaN NaN   NaN  0.158719      NaN  NaN   True\n",
      "2017-08-24 12:44:00 NaN NaN   NaN       NaN      NaN  NaN   True]\n",
      "\n",
      "[                     Tp  pH  Cond      Turb      SAC  PFM  Event\n",
      "Time                                                            \n",
      "2017-08-24 12:42:00 NaN NaN   NaN  0.153299  4.24212  NaN   True\n",
      "2017-08-24 12:43:00 NaN NaN   NaN  0.158719      NaN  NaN   True\n",
      "2017-08-24 12:44:00 NaN NaN   NaN       NaN      NaN  NaN   True]\n",
      "\n",
      "[                     Tp  pH  Cond      Turb      SAC  PFM  Event\n",
      "Time                                                            \n",
      "2017-08-24 12:42:00 NaN NaN   NaN  0.153299  4.24212  NaN   True\n",
      "2017-08-24 12:43:00 NaN NaN   NaN  0.158719      NaN  NaN   True\n",
      "2017-08-24 12:44:00 NaN NaN   NaN       NaN      NaN  NaN   True]\n",
      "\n",
      "[                     Tp  pH  Cond      Turb      SAC  PFM  Event\n",
      "Time                                                            \n",
      "2017-08-24 12:42:00 NaN NaN   NaN  0.153299  4.24212  NaN   True\n",
      "2017-08-24 12:43:00 NaN NaN   NaN  0.158719      NaN  NaN   True\n",
      "2017-08-24 12:44:00 NaN NaN   NaN       NaN      NaN  NaN   True]\n",
      "\n",
      "[                     Tp  pH  Cond      Turb      SAC  PFM  Event\n",
      "Time                                                            \n",
      "2017-08-24 12:42:00 NaN NaN   NaN  0.153299  4.24212  NaN   True\n",
      "2017-08-24 12:43:00 NaN NaN   NaN  0.158719      NaN  NaN   True\n",
      "2017-08-24 12:44:00 NaN NaN   NaN       NaN      NaN  NaN   True]\n",
      "\n",
      "[                     Tp  pH  Cond      Turb      SAC  PFM  Event\n",
      "Time                                                            \n",
      "2017-08-24 12:42:00 NaN NaN   NaN  0.153299  4.24212  NaN   True\n",
      "2017-08-24 12:43:00 NaN NaN   NaN  0.158719      NaN  NaN   True\n",
      "2017-08-24 12:44:00 NaN NaN   NaN       NaN      NaN  NaN   True]\n"
     ]
    }
   ],
   "execution_count": 6
  },
  {
   "metadata": {},
   "cell_type": "markdown",
   "source": [
    "# Filling missing values\n",
    "We want to try and evaluate all methods separately. We will evaluate it using the RMSE analogously to the lecture.\n",
    "I.e., we will look for mostly intact segments, remove values arbitrarily, and then fill them using the methods.\n",
    "## Simple Filling\n",
    "Because filling values for one column is independent of the others, we can fill the missing values for each column separately in order to maximize the size of the validation set.\n",
    "Prior, we calculate the proportion of Na values in the entire column and delete the same\n",
    "proportion from our validation set.\n",
    "Assuming the missing values are uniformly randomly distributed, our calculated error will tend towards the true error of our method."
   ],
   "id": "9351b4ca3f71f3cd"
  },
  {
   "metadata": {
    "ExecuteTime": {
     "end_time": "2024-11-27T10:59:23.401211Z",
     "start_time": "2024-11-27T10:59:23.364679Z"
    }
   },
   "cell_type": "code",
   "source": [
    "bold = util.bold\n",
    "permitted_missing_values = 10\n",
    "print(\"Permitted missing values in validation segment:\", bold(permitted_missing_values))\n",
    "for column in data.columns:\n",
    "    if column == \"Event\":\n",
    "        continue\n",
    "    segment_bounds = util.find_best_segment_in_series(data[column], permitted_missing_values)\n",
    "    segment = data[column].iloc[segment_bounds[0]:segment_bounds[1]]\n",
    "    na_proportion = data[column].isna().sum() / len(segment)\n",
    "    drop_count = round(len(segment) * na_proportion)\n",
    "    np.random.seed(42) # seed (to get reproducible results)\n",
    "    mv_idx = np.random.choice(np.arange(len(segment)), size=drop_count, replace=False)\n",
    "    segment_mv = segment.copy()\n",
    "    segment_mv.iloc[mv_idx] = np.nan\n",
    "    ffill_error = np.sqrt(mean_squared_error(segment.ffill(), segment_mv.ffill()))\n",
    "    bfill_error = np.sqrt(mean_squared_error(segment.bfill(), segment_mv.bfill()))\n",
    "    print()\n",
    "    print(\"Column:\", bold(column))\n",
    "    print(f\"Validation segment length:\", bold(len(segment)))\n",
    "    print(\"Proportion of Na values in the column:\", bold(f\"{na_proportion:.3%}\"))\n",
    "    print(\"Deleted samples for evaluation:\", bold(drop_count))\n",
    "    print(\"FFill RMSE:\", bold(ffill_error))\n",
    "    print(\"BFill RMSE:\", bold(bfill_error))\n"
   ],
   "id": "7e44cf8194a023",
   "outputs": [
    {
     "name": "stdout",
     "output_type": "stream",
     "text": [
      "Permitted missing values in validation segment: \u001B[1m10\u001B[0m\n",
      "\n",
      "Column: \u001B[1mTp\u001B[0m\n",
      "Validation segment length: \u001B[1m15050\u001B[0m\n",
      "Proportion of Na values in the column: \u001B[1m1.422%\u001B[0m\n",
      "Deleted samples for evaluation: \u001B[1m214\u001B[0m\n",
      "FFill RMSE: \u001B[1m0.0007944993617872808\u001B[0m\n",
      "BFill RMSE: \u001B[1m0.0009329693959009103\u001B[0m\n",
      "\n",
      "Column: \u001B[1mpH\u001B[0m\n",
      "Validation segment length: \u001B[1m16071\u001B[0m\n",
      "Proportion of Na values in the column: \u001B[1m1.294%\u001B[0m\n",
      "Deleted samples for evaluation: \u001B[1m208\u001B[0m\n",
      "FFill RMSE: \u001B[1m0.00021721817299058996\u001B[0m\n",
      "BFill RMSE: \u001B[1m0.00021717736321615354\u001B[0m\n",
      "\n",
      "Column: \u001B[1mCond\u001B[0m\n",
      "Validation segment length: \u001B[1m15477\u001B[0m\n",
      "Proportion of Na values in the column: \u001B[1m1.318%\u001B[0m\n",
      "Deleted samples for evaluation: \u001B[1m204\u001B[0m\n",
      "FFill RMSE: \u001B[1m6.527287269456962e-07\u001B[0m\n",
      "BFill RMSE: \u001B[1m6.510298698614589e-07\u001B[0m\n",
      "\n",
      "Column: \u001B[1mTurb\u001B[0m\n",
      "Validation segment length: \u001B[1m15266\u001B[0m\n",
      "Proportion of Na values in the column: \u001B[1m1.343%\u001B[0m\n",
      "Deleted samples for evaluation: \u001B[1m205\u001B[0m\n",
      "FFill RMSE: \u001B[1m0.00032659511767562993\u001B[0m\n",
      "BFill RMSE: \u001B[1m0.00018797875356249162\u001B[0m\n",
      "\n",
      "Column: \u001B[1mSAC\u001B[0m\n",
      "Validation segment length: \u001B[1m13958\u001B[0m\n",
      "Proportion of Na values in the column: \u001B[1m1.433%\u001B[0m\n",
      "Deleted samples for evaluation: \u001B[1m200\u001B[0m\n",
      "FFill RMSE: \u001B[1m0.0008912242497928506\u001B[0m\n",
      "BFill RMSE: \u001B[1m0.0009108590056087587\u001B[0m\n",
      "\n",
      "Column: \u001B[1mPFM\u001B[0m\n",
      "Validation segment length: \u001B[1m15050\u001B[0m\n",
      "Proportion of Na values in the column: \u001B[1m1.402%\u001B[0m\n",
      "Deleted samples for evaluation: \u001B[1m211\u001B[0m\n",
      "FFill RMSE: \u001B[1m0.09345852737375246\u001B[0m\n",
      "BFill RMSE: \u001B[1m0.09210241549961533\u001B[0m\n"
     ]
    }
   ],
   "execution_count": 7
  },
  {
   "cell_type": "markdown",
   "id": "43b9c8f5-c689-4c35-b0f0-85b104c90d3c",
   "metadata": {},
   "source": [
    "## Auto Correlation Plot"
   ]
  },
  {
   "cell_type": "code",
   "id": "041065c2-ee6f-47db-9625-cdc5b281fb99",
   "metadata": {
    "ExecuteTime": {
     "end_time": "2024-11-27T10:59:23.498876Z",
     "start_time": "2024-11-27T10:59:23.495639Z"
    }
   },
   "source": "",
   "outputs": [],
   "execution_count": null
  },
  {
   "cell_type": "code",
   "id": "175af087-a95f-40e0-9d81-0e047116d1bf",
   "metadata": {
    "ExecuteTime": {
     "end_time": "2024-11-27T10:59:23.638966Z",
     "start_time": "2024-11-27T10:59:23.634994Z"
    }
   },
   "source": [
    "#üfor column in data.columns:\n",
    "##    display(util.plot_autocorrelation(data[column], figsize))\n",
    "#util.plot_autocorrelation(data[\"Tp\"], figsize)"
   ],
   "outputs": [],
   "execution_count": 8
  },
  {
   "cell_type": "markdown",
   "id": "240bf833-d28b-4ae7-8cd8-36552c9ffcc9",
   "metadata": {},
   "source": [
    "## Test for markov property"
   ]
  },
  {
   "cell_type": "markdown",
   "id": "efc8215c-96ea-4670-b201-fa78f986f514",
   "metadata": {},
   "source": [
    "In the lectures, wen defined the alarm signal we strive to minimize:\n",
    "$$\n",
    "-\\log f(x, θ) \\geq ε\n",
    "$$\n",
    "where $$ f(x, θ) $$ is the true distribution function."
   ]
  },
  {
   "cell_type": "markdown",
   "id": "fc19049d-1bbf-444f-a1b5-6f4d056ec55c",
   "metadata": {},
   "source": [
    "## Investigation\n",
    "Determining the period:"
   ]
  },
  {
   "cell_type": "markdown",
   "id": "8aa5fbd0-a40d-4885-a430-24fefff51a5e",
   "metadata": {},
   "source": [
    "# Multivariate Kernel Density Estimation\n",
    "The first approach presented in the lecture is **Kernel Density Estimation**\n",
    "\n",
    "In order to employ **KDE**, we need to determine the optimal **Kernel Function** and **Bandwidth**. \n",
    "Since we have multiple columns, we cannot use the Rule Of Thumb for the latter. Therefore, we need to optimize the following term according to the lecture: \n",
    "$$\n",
    "\\mathop{\\arg\\max}_{h} \\mathbb{E}_{x \\sim f(x), \\bar{x} \\sim f(x)}\\left[ L(h, x, \\bar{x})\\right]\n",
    "$$\n",
    "where\n",
    "- $$\n",
    "L(h, x, \\bar{x}) = \\prod_{i=1}^m \\hat{f}(x_i, \\bar{x}_i, h)\n",
    "$$\n",
    "- $\\hat{f}$ is the density estimator (which outputs a probability)\n",
    "- $\\bar{x}$ the training set\n",
    "\n",
    "according to the lecture.\n"
   ]
  }
 ],
 "metadata": {
  "kernelspec": {
   "display_name": "Python 3 (ipykernel)",
   "language": "python",
   "name": "python3"
  },
  "language_info": {
   "codemirror_mode": {
    "name": "ipython",
    "version": 3
   },
   "file_extension": ".py",
   "mimetype": "text/x-python",
   "name": "python",
   "nbconvert_exporter": "python",
   "pygments_lexer": "ipython3",
   "version": "3.12.7"
  }
 },
 "nbformat": 4,
 "nbformat_minor": 5
}
