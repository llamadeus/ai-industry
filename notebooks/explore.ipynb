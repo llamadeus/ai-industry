{
 "cells": [
  {
   "cell_type": "code",
   "id": "3db9a370-3f21-49b6-a6be-e414f03d1e61",
   "metadata": {
    "ExecuteTime": {
     "end_time": "2024-11-29T14:20:58.057317Z",
     "start_time": "2024-11-29T14:20:56.021884Z"
    }
   },
   "source": [
    "from pandas.core.interchange.dataframe_protocol import DataFrame\n",
    "# ============================================================\n",
    "# Notebook setup: run this before everything\n",
    "# ============================================================\n",
    "# -- Copied from lecture\n",
    "%load_ext autoreload\n",
    "%config IPCompleter.greedy=True\n",
    "%autoreload 1\n",
    "%aimport util\n",
    "from util import util\n",
    "import numpy as np\n",
    "# from matplotlib import pyplot as plt\n",
    "import pandas as pd\n",
    "from sklearn.neighbors import KernelDensity\n",
    "from sklearn.metrics import mean_squared_error\n",
    "from IPython.display import display\n",
    "from collections import Counter\n",
    "\n",
    "\n",
    "# Only if environment does not support explicit display, like Pycharm\n",
    "display = print\n",
    "\n",
    "# Control figure size\n",
    "interactive_figures = False\n",
    "if interactive_figures:\n",
    "    # Normal behavior\n",
    "    %matplotlib widget\n",
    "    figsize=(9, 3)\n",
    "else:\n",
    "    # PDF export behavior\n",
    "    figsize=(14, 4)\n",
    "\n",
    "data_folder = '../resources/dataset'\n",
    "file_name = '7_gecco2019_train_water_quality.csv'\n",
    "# Load the input data\n",
    "data_path = f'{data_folder}/{file_name}'\n",
    "raw_data = pd.read_csv(data_path)\n",
    "raw_data['Time'] = pd.to_datetime(raw_data['Time'])\n",
    "raw_data.set_index('Time', inplace=True)\n",
    "raw_data = raw_data.drop(columns=[\"Unnamed: 0\"]) # The index was stored as an unnamed column"
   ],
   "outputs": [],
   "execution_count": 1
  },
  {
   "cell_type": "markdown",
   "id": "7676a778-7405-42c0-8f70-e76103151c92",
   "metadata": {},
   "source": [
    "# Missing Values\n",
    "## Investigation"
   ]
  },
  {
   "metadata": {},
   "cell_type": "markdown",
   "source": [
    "First, we see that most of our values are floating point numbers, except for the `Event` column which is our label, that is,\n",
    "whether we are dealing with an anomaly or not."
   ],
   "id": "275c512aac31b0d9"
  },
  {
   "cell_type": "code",
   "id": "d0cc4880-10e7-4f49-bedb-e873f3f92b1f",
   "metadata": {
    "ExecuteTime": {
     "end_time": "2024-11-29T14:20:58.135472Z",
     "start_time": "2024-11-29T14:20:58.070187Z"
    }
   },
   "source": [
    "print(\"Columns: \")\n",
    "print({column: raw_data[column].dtype for column in raw_data.columns})\n",
    "raw_data.describe()"
   ],
   "outputs": [
    {
     "name": "stdout",
     "output_type": "stream",
     "text": [
      "Columns: \n",
      "{'Tp': dtype('float64'), 'pH': dtype('float64'), 'Cond': dtype('float64'), 'Turb': dtype('float64'), 'SAC': dtype('float64'), 'PFM': dtype('float64'), 'Event': dtype('bool')}\n"
     ]
    },
    {
     "data": {
      "text/plain": [
       "                  Tp             pH           Cond           Turb  \\\n",
       "count  132266.000000  132272.000000  132276.000000  132275.000000   \n",
       "mean        8.041982       8.533168       0.021095       0.128368   \n",
       "std         0.893687       0.052646       0.000347       0.005928   \n",
       "min         0.000000       0.000000       0.000000       0.000000   \n",
       "25%         7.250000       8.502780       0.020871       0.127160   \n",
       "50%         7.880000       8.539630       0.021102       0.127754   \n",
       "75%         8.710000       8.563490       0.021327       0.128686   \n",
       "max        10.300000       8.666760       0.023214       1.782850   \n",
       "\n",
       "                 SAC            PFM  \n",
       "count  132280.000000  132269.000000  \n",
       "mean        4.100425      68.660980  \n",
       "std         0.304104      11.420472  \n",
       "min         0.000000      42.163100  \n",
       "25%         3.816430      60.484900  \n",
       "50%         4.125515      71.440700  \n",
       "75%         4.395750      79.076900  \n",
       "max         6.102071      84.815100  "
      ],
      "text/html": [
       "<div>\n",
       "<style scoped>\n",
       "    .dataframe tbody tr th:only-of-type {\n",
       "        vertical-align: middle;\n",
       "    }\n",
       "\n",
       "    .dataframe tbody tr th {\n",
       "        vertical-align: top;\n",
       "    }\n",
       "\n",
       "    .dataframe thead th {\n",
       "        text-align: right;\n",
       "    }\n",
       "</style>\n",
       "<table border=\"1\" class=\"dataframe\">\n",
       "  <thead>\n",
       "    <tr style=\"text-align: right;\">\n",
       "      <th></th>\n",
       "      <th>Tp</th>\n",
       "      <th>pH</th>\n",
       "      <th>Cond</th>\n",
       "      <th>Turb</th>\n",
       "      <th>SAC</th>\n",
       "      <th>PFM</th>\n",
       "    </tr>\n",
       "  </thead>\n",
       "  <tbody>\n",
       "    <tr>\n",
       "      <th>count</th>\n",
       "      <td>132266.000000</td>\n",
       "      <td>132272.000000</td>\n",
       "      <td>132276.000000</td>\n",
       "      <td>132275.000000</td>\n",
       "      <td>132280.000000</td>\n",
       "      <td>132269.000000</td>\n",
       "    </tr>\n",
       "    <tr>\n",
       "      <th>mean</th>\n",
       "      <td>8.041982</td>\n",
       "      <td>8.533168</td>\n",
       "      <td>0.021095</td>\n",
       "      <td>0.128368</td>\n",
       "      <td>4.100425</td>\n",
       "      <td>68.660980</td>\n",
       "    </tr>\n",
       "    <tr>\n",
       "      <th>std</th>\n",
       "      <td>0.893687</td>\n",
       "      <td>0.052646</td>\n",
       "      <td>0.000347</td>\n",
       "      <td>0.005928</td>\n",
       "      <td>0.304104</td>\n",
       "      <td>11.420472</td>\n",
       "    </tr>\n",
       "    <tr>\n",
       "      <th>min</th>\n",
       "      <td>0.000000</td>\n",
       "      <td>0.000000</td>\n",
       "      <td>0.000000</td>\n",
       "      <td>0.000000</td>\n",
       "      <td>0.000000</td>\n",
       "      <td>42.163100</td>\n",
       "    </tr>\n",
       "    <tr>\n",
       "      <th>25%</th>\n",
       "      <td>7.250000</td>\n",
       "      <td>8.502780</td>\n",
       "      <td>0.020871</td>\n",
       "      <td>0.127160</td>\n",
       "      <td>3.816430</td>\n",
       "      <td>60.484900</td>\n",
       "    </tr>\n",
       "    <tr>\n",
       "      <th>50%</th>\n",
       "      <td>7.880000</td>\n",
       "      <td>8.539630</td>\n",
       "      <td>0.021102</td>\n",
       "      <td>0.127754</td>\n",
       "      <td>4.125515</td>\n",
       "      <td>71.440700</td>\n",
       "    </tr>\n",
       "    <tr>\n",
       "      <th>75%</th>\n",
       "      <td>8.710000</td>\n",
       "      <td>8.563490</td>\n",
       "      <td>0.021327</td>\n",
       "      <td>0.128686</td>\n",
       "      <td>4.395750</td>\n",
       "      <td>79.076900</td>\n",
       "    </tr>\n",
       "    <tr>\n",
       "      <th>max</th>\n",
       "      <td>10.300000</td>\n",
       "      <td>8.666760</td>\n",
       "      <td>0.023214</td>\n",
       "      <td>1.782850</td>\n",
       "      <td>6.102071</td>\n",
       "      <td>84.815100</td>\n",
       "    </tr>\n",
       "  </tbody>\n",
       "</table>\n",
       "</div>"
      ]
     },
     "execution_count": 2,
     "metadata": {},
     "output_type": "execute_result"
    }
   ],
   "execution_count": 2
  },
  {
   "metadata": {},
   "cell_type": "markdown",
   "source": "We will now look at the alignment and completeness of the sample timeslots:",
   "id": "3312977ff014a3dc"
  },
  {
   "cell_type": "code",
   "id": "ecd3101feeb91e49",
   "metadata": {
    "ExecuteTime": {
     "end_time": "2024-11-29T14:20:58.401842Z",
     "start_time": "2024-11-29T14:20:58.393155Z"
    }
   },
   "source": "display((raw_data.index[1:] - raw_data.index[:-1]).value_counts())",
   "outputs": [
    {
     "name": "stdout",
     "output_type": "stream",
     "text": [
      "Time\n",
      "0 days 00:01:00    132479\n",
      "Name: count, dtype: int64\n"
     ]
    }
   ],
   "execution_count": 3
  },
  {
   "metadata": {},
   "cell_type": "markdown",
   "source": [
    "We see that the timeslots are regular and not missing.\n",
    "\n",
    "Now, we will look at missing values:"
   ],
   "id": "4122565e523f06c1"
  },
  {
   "metadata": {
    "ExecuteTime": {
     "end_time": "2024-11-29T14:20:58.486387Z",
     "start_time": "2024-11-29T14:20:58.465901Z"
    }
   },
   "cell_type": "code",
   "source": [
    "print(\"Columns containing missing values:\")\n",
    "display(raw_data.isna().any())\n",
    "print(\"Some rows containing missing values:\")\n",
    "raw_data.loc[raw_data.isna().any(axis=1)].head()"
   ],
   "id": "5aaa7a31ca6d98a3",
   "outputs": [
    {
     "name": "stdout",
     "output_type": "stream",
     "text": [
      "Columns containing missing values:\n",
      "Tp        True\n",
      "pH        True\n",
      "Cond      True\n",
      "Turb      True\n",
      "SAC       True\n",
      "PFM       True\n",
      "Event    False\n",
      "dtype: bool\n",
      "Some rows containing missing values:\n"
     ]
    },
    {
     "data": {
      "text/plain": [
       "                      Tp       pH      Cond      Turb      SAC      PFM  Event\n",
       "Time                                                                          \n",
       "2017-07-01 13:24:00  NaN      NaN       NaN       NaN      NaN      NaN  False\n",
       "2017-07-01 17:00:00  NaN  8.58873       NaN  0.126537  3.58901      NaN  False\n",
       "2017-07-02 22:08:00  NaN      NaN       NaN       NaN      NaN      NaN  False\n",
       "2017-07-03 01:46:00  7.1  8.55185  0.021717       NaN      NaN  44.7191  False\n",
       "2017-07-03 05:23:00  NaN      NaN       NaN       NaN      NaN      NaN  False"
      ],
      "text/html": [
       "<div>\n",
       "<style scoped>\n",
       "    .dataframe tbody tr th:only-of-type {\n",
       "        vertical-align: middle;\n",
       "    }\n",
       "\n",
       "    .dataframe tbody tr th {\n",
       "        vertical-align: top;\n",
       "    }\n",
       "\n",
       "    .dataframe thead th {\n",
       "        text-align: right;\n",
       "    }\n",
       "</style>\n",
       "<table border=\"1\" class=\"dataframe\">\n",
       "  <thead>\n",
       "    <tr style=\"text-align: right;\">\n",
       "      <th></th>\n",
       "      <th>Tp</th>\n",
       "      <th>pH</th>\n",
       "      <th>Cond</th>\n",
       "      <th>Turb</th>\n",
       "      <th>SAC</th>\n",
       "      <th>PFM</th>\n",
       "      <th>Event</th>\n",
       "    </tr>\n",
       "    <tr>\n",
       "      <th>Time</th>\n",
       "      <th></th>\n",
       "      <th></th>\n",
       "      <th></th>\n",
       "      <th></th>\n",
       "      <th></th>\n",
       "      <th></th>\n",
       "      <th></th>\n",
       "    </tr>\n",
       "  </thead>\n",
       "  <tbody>\n",
       "    <tr>\n",
       "      <th>2017-07-01 13:24:00</th>\n",
       "      <td>NaN</td>\n",
       "      <td>NaN</td>\n",
       "      <td>NaN</td>\n",
       "      <td>NaN</td>\n",
       "      <td>NaN</td>\n",
       "      <td>NaN</td>\n",
       "      <td>False</td>\n",
       "    </tr>\n",
       "    <tr>\n",
       "      <th>2017-07-01 17:00:00</th>\n",
       "      <td>NaN</td>\n",
       "      <td>8.58873</td>\n",
       "      <td>NaN</td>\n",
       "      <td>0.126537</td>\n",
       "      <td>3.58901</td>\n",
       "      <td>NaN</td>\n",
       "      <td>False</td>\n",
       "    </tr>\n",
       "    <tr>\n",
       "      <th>2017-07-02 22:08:00</th>\n",
       "      <td>NaN</td>\n",
       "      <td>NaN</td>\n",
       "      <td>NaN</td>\n",
       "      <td>NaN</td>\n",
       "      <td>NaN</td>\n",
       "      <td>NaN</td>\n",
       "      <td>False</td>\n",
       "    </tr>\n",
       "    <tr>\n",
       "      <th>2017-07-03 01:46:00</th>\n",
       "      <td>7.1</td>\n",
       "      <td>8.55185</td>\n",
       "      <td>0.021717</td>\n",
       "      <td>NaN</td>\n",
       "      <td>NaN</td>\n",
       "      <td>44.7191</td>\n",
       "      <td>False</td>\n",
       "    </tr>\n",
       "    <tr>\n",
       "      <th>2017-07-03 05:23:00</th>\n",
       "      <td>NaN</td>\n",
       "      <td>NaN</td>\n",
       "      <td>NaN</td>\n",
       "      <td>NaN</td>\n",
       "      <td>NaN</td>\n",
       "      <td>NaN</td>\n",
       "      <td>False</td>\n",
       "    </tr>\n",
       "  </tbody>\n",
       "</table>\n",
       "</div>"
      ]
     },
     "execution_count": 4,
     "metadata": {},
     "output_type": "execute_result"
    }
   ],
   "execution_count": 4
  },
  {
   "metadata": {},
   "cell_type": "markdown",
   "source": [
    "As we can see, there are quite a few missing values in our dataset. Each column has some.\n",
    "\n",
    "We will now try to characterize the distribution in which they show up."
   ],
   "id": "db4644d7de1903b5"
  },
  {
   "metadata": {
    "ExecuteTime": {
     "end_time": "2024-11-29T14:20:58.522598Z",
     "start_time": "2024-11-29T14:20:58.507224Z"
    }
   },
   "cell_type": "code",
   "source": [
    "\n",
    "for column in raw_data.drop(columns=[\"Event\"]).columns:\n",
    "    print()\n",
    "    print(\"Column:\", util.bold(column))\n",
    "    series = util.calculate_na_series(raw_data[column])\n",
    "    for length, count in Counter(map(int, series[:, 1])).most_common():\n",
    "        print(f\"There are {util.bold(count)} NA-sequences of length {util.bold(length)}\")"
   ],
   "id": "df02e7239ec31b50",
   "outputs": [
    {
     "name": "stdout",
     "output_type": "stream",
     "text": [
      "\n",
      "Column: \u001B[1mTp\u001B[0m\n",
      "There are \u001B[1m201\u001B[0m NA-sequences of length \u001B[1m1\u001B[0m\n",
      "There are \u001B[1m1\u001B[0m NA-sequences of length \u001B[1m3\u001B[0m\n",
      "There are \u001B[1m1\u001B[0m NA-sequences of length \u001B[1m10\u001B[0m\n",
      "\n",
      "Column: \u001B[1mpH\u001B[0m\n",
      "There are \u001B[1m195\u001B[0m NA-sequences of length \u001B[1m1\u001B[0m\n",
      "There are \u001B[1m1\u001B[0m NA-sequences of length \u001B[1m3\u001B[0m\n",
      "There are \u001B[1m1\u001B[0m NA-sequences of length \u001B[1m10\u001B[0m\n",
      "\n",
      "Column: \u001B[1mCond\u001B[0m\n",
      "There are \u001B[1m191\u001B[0m NA-sequences of length \u001B[1m1\u001B[0m\n",
      "There are \u001B[1m1\u001B[0m NA-sequences of length \u001B[1m3\u001B[0m\n",
      "There are \u001B[1m1\u001B[0m NA-sequences of length \u001B[1m10\u001B[0m\n",
      "\n",
      "Column: \u001B[1mTurb\u001B[0m\n",
      "There are \u001B[1m195\u001B[0m NA-sequences of length \u001B[1m1\u001B[0m\n",
      "There are \u001B[1m1\u001B[0m NA-sequences of length \u001B[1m10\u001B[0m\n",
      "\n",
      "Column: \u001B[1mSAC\u001B[0m\n",
      "There are \u001B[1m188\u001B[0m NA-sequences of length \u001B[1m1\u001B[0m\n",
      "There are \u001B[1m1\u001B[0m NA-sequences of length \u001B[1m2\u001B[0m\n",
      "There are \u001B[1m1\u001B[0m NA-sequences of length \u001B[1m10\u001B[0m\n",
      "\n",
      "Column: \u001B[1mPFM\u001B[0m\n",
      "There are \u001B[1m198\u001B[0m NA-sequences of length \u001B[1m1\u001B[0m\n",
      "There are \u001B[1m1\u001B[0m NA-sequences of length \u001B[1m3\u001B[0m\n",
      "There are \u001B[1m1\u001B[0m NA-sequences of length \u001B[1m10\u001B[0m\n"
     ]
    }
   ],
   "execution_count": 5
  },
  {
   "metadata": {},
   "cell_type": "markdown",
   "source": [
    "We see that most missing values just come up randomly and not in a bunch.\n",
    "The segments of 10 consecutive NA values across all columns seems suspicious though.\n",
    "\n",
    "Let's see if this is the same for all."
   ],
   "id": "d098c78b3e931ee9"
  },
  {
   "metadata": {
    "ExecuteTime": {
     "end_time": "2024-11-29T14:20:58.601203Z",
     "start_time": "2024-11-29T14:20:58.589953Z"
    }
   },
   "cell_type": "code",
   "source": [
    "collective_na_series = util.calculate_true_series(raw_data.drop(columns=\"Event\").isna().to_numpy().all(axis=1))\n",
    "collective_na_series[collective_na_series[:,1] > 1]"
   ],
   "id": "f2ddd2d5d2a29715",
   "outputs": [
    {
     "data": {
      "text/plain": [
       "array([[78550,    10]])"
      ]
     },
     "execution_count": 6,
     "metadata": {},
     "output_type": "execute_result"
    }
   ],
   "execution_count": 6
  },
  {
   "metadata": {},
   "cell_type": "markdown",
   "source": [
    "Indeed, we see that there is only one index with a series of timestamps where all entries are 0 (that is more than timeslot long).\n",
    "It starts at index 78550.\n",
    "\n",
    "Since most of them however, just come up individually, we would expect that naive filling algorithms should perform well enough as more complex ones.\n",
    "\n",
    "By the way, respectively the other series' with more than one consecutive Na look like this. Note that all of them are classified as an anomaly."
   ],
   "id": "abc3bbdd59a6e0c0"
  },
  {
   "metadata": {
    "ExecuteTime": {
     "end_time": "2024-11-29T14:20:58.810368Z",
     "start_time": "2024-11-29T14:20:58.784059Z"
    }
   },
   "cell_type": "code",
   "source": [
    "for column in raw_data.drop(columns=\"Event\").columns:\n",
    "    print()\n",
    "    longer_segments = series[np.logical_and(series[:, 1] > 1, series[:, 1] < 10)]\n",
    "    display([raw_data.iloc[i:i + l] for i, l in longer_segments])"
   ],
   "id": "f9e2f726257e8259",
   "outputs": [
    {
     "name": "stdout",
     "output_type": "stream",
     "text": [
      "\n",
      "[                     Tp  pH  Cond      Turb      SAC  PFM  Event\n",
      "Time                                                            \n",
      "2017-08-24 12:42:00 NaN NaN   NaN  0.153299  4.24212  NaN   True\n",
      "2017-08-24 12:43:00 NaN NaN   NaN  0.158719      NaN  NaN   True\n",
      "2017-08-24 12:44:00 NaN NaN   NaN       NaN      NaN  NaN   True]\n",
      "\n",
      "[                     Tp  pH  Cond      Turb      SAC  PFM  Event\n",
      "Time                                                            \n",
      "2017-08-24 12:42:00 NaN NaN   NaN  0.153299  4.24212  NaN   True\n",
      "2017-08-24 12:43:00 NaN NaN   NaN  0.158719      NaN  NaN   True\n",
      "2017-08-24 12:44:00 NaN NaN   NaN       NaN      NaN  NaN   True]\n",
      "\n",
      "[                     Tp  pH  Cond      Turb      SAC  PFM  Event\n",
      "Time                                                            \n",
      "2017-08-24 12:42:00 NaN NaN   NaN  0.153299  4.24212  NaN   True\n",
      "2017-08-24 12:43:00 NaN NaN   NaN  0.158719      NaN  NaN   True\n",
      "2017-08-24 12:44:00 NaN NaN   NaN       NaN      NaN  NaN   True]\n",
      "\n",
      "[                     Tp  pH  Cond      Turb      SAC  PFM  Event\n",
      "Time                                                            \n",
      "2017-08-24 12:42:00 NaN NaN   NaN  0.153299  4.24212  NaN   True\n",
      "2017-08-24 12:43:00 NaN NaN   NaN  0.158719      NaN  NaN   True\n",
      "2017-08-24 12:44:00 NaN NaN   NaN       NaN      NaN  NaN   True]\n",
      "\n",
      "[                     Tp  pH  Cond      Turb      SAC  PFM  Event\n",
      "Time                                                            \n",
      "2017-08-24 12:42:00 NaN NaN   NaN  0.153299  4.24212  NaN   True\n",
      "2017-08-24 12:43:00 NaN NaN   NaN  0.158719      NaN  NaN   True\n",
      "2017-08-24 12:44:00 NaN NaN   NaN       NaN      NaN  NaN   True]\n",
      "\n",
      "[                     Tp  pH  Cond      Turb      SAC  PFM  Event\n",
      "Time                                                            \n",
      "2017-08-24 12:42:00 NaN NaN   NaN  0.153299  4.24212  NaN   True\n",
      "2017-08-24 12:43:00 NaN NaN   NaN  0.158719      NaN  NaN   True\n",
      "2017-08-24 12:44:00 NaN NaN   NaN       NaN      NaN  NaN   True]\n"
     ]
    }
   ],
   "execution_count": 7
  },
  {
   "metadata": {},
   "cell_type": "markdown",
   "source": [
    "# Filling missing values\n",
    "We want to try and evaluate all methods separately. We will evaluate it using the RMSE analogously to the lecture.\n",
    "I.e., we will look for mostly intact segments, remove values arbitrarily, and then fill them using the methods.\n",
    "## Simple Filling\n",
    "Because filling values for one column is independent of the others, we can fill the missing values for each column separately in order to maximize the size of the validation set.\n",
    "Prior, we calculate the proportion of Na values in the entire column and delete the same\n",
    "proportion from our validation set.\n",
    "Assuming the missing values are uniformly randomly distributed, our calculated error will tend towards the true error of our method."
   ],
   "id": "9351b4ca3f71f3cd"
  },
  {
   "metadata": {
    "ExecuteTime": {
     "end_time": "2024-11-29T14:20:59.155472Z",
     "start_time": "2024-11-29T14:20:58.903755Z"
    }
   },
   "cell_type": "code",
   "source": [
    "# Initialize a list to collect statistics for each column\n",
    "stats_list = []\n",
    "permitted_missing_values = 10\n",
    "filleddata = pd.DataFrame(index=raw_data.index)\n",
    "for column in raw_data.columns:\n",
    "    if column == \"Event\":\n",
    "        continue\n",
    "    # Find the best segment\n",
    "    segment_bounds = util.find_best_segment_in_series(raw_data[column], permitted_missing_values)\n",
    "    segment = raw_data[column].iloc[segment_bounds[0]:segment_bounds[1]]\n",
    "    nan_mask = segment.isnull()\n",
    "\n",
    "    # Calculate statistics\n",
    "    na_proportion = raw_data[column].isna().sum() / len(segment)\n",
    "    drop_count = round(len(segment) * na_proportion)\n",
    "\n",
    "    # Introduce missing values at random positions\n",
    "    np.random.seed(42)  # Seed for reproducibility\n",
    "    mv_idx = np.random.choice(np.arange(len(segment)), size=drop_count, replace=False)\n",
    "    segment_mv = segment.copy()\n",
    "    segment_mv.iloc[mv_idx] = np.nan\n",
    "\n",
    "    # Define interpolation methods\n",
    "    args = [\n",
    "        {'method': 'linear'},\n",
    "        {'method': 'polynomial', 'order': 2},\n",
    "        {'method': 'spline', 'order': 4},\n",
    "        {'method': 'nearest'}\n",
    "    ]\n",
    "\n",
    "    min_rmse = float('inf')\n",
    "    min_fill_function = None\n",
    "    min_name = None\n",
    "\n",
    "    # Function to calculate RMSE and update stats\n",
    "    rmse_methods = {}\n",
    "    def calc_rmse(name, fill_function):\n",
    "        global min_rmse, min_fill_function, min_name\n",
    "        filled = fill_function(segment_mv)\n",
    "        rmse = np.sqrt(mean_squared_error(segment[~nan_mask], filled[~nan_mask]))\n",
    "        # Store RMSE for this method in the stats dictionary\n",
    "        rmse_methods[f'RMSE {name}'] = rmse\n",
    "        if rmse < min_rmse:\n",
    "            min_rmse, min_fill_function, min_name = rmse, fill_function, name\n",
    "\n",
    "    # Calculate RMSE for each method\n",
    "    for a in args:\n",
    "        method_name = a.get('method')\n",
    "        # Capture 'a' in the lambda to avoid late binding\n",
    "        calc_rmse(method_name, lambda arr, a=a: arr.interpolate(**a))\n",
    "    calc_rmse(\"ffill\", lambda arr: arr.ffill())\n",
    "    calc_rmse(\"bfill\", lambda arr: arr.bfill())\n",
    "\n",
    "    filleddata[column] = min_fill_function(raw_data[column])\n",
    "\n",
    "    # Initialize stats dictionary for this column\n",
    "    stats = {\n",
    "        'Column': column,\n",
    "        'Best method': min_name,\n",
    "        'Best RMSE': min_rmse,\n",
    "        **rmse_methods,\n",
    "        '# samples in Validation': len(segment),\n",
    "        '% of NaN in entire column': na_proportion,\n",
    "        '# Deleted for test set': drop_count,\n",
    "        '# NA in validation set': segment.isna().sum()\n",
    "    }\n",
    "\n",
    "    stats_list.append(stats)\n",
    "\n",
    "# Create DataFrame from collected stats\n",
    "stats_df = pd.DataFrame(stats_list)\n",
    "\n",
    "# Optional: Set 'Column' as the index\n",
    "stats_df.set_index('Column', inplace=True)\n",
    "\n",
    "# Display the DataFrame\n",
    "stats_df.T"
   ],
   "id": "e3fe5b320c2d5a44",
   "outputs": [
    {
     "data": {
      "text/plain": [
       "Column                           Tp        pH      Cond      Turb       SAC  \\\n",
       "Best method                  linear    linear    linear    spline    linear   \n",
       "Best RMSE                  0.000583  0.000174       0.0  0.000142   0.00078   \n",
       "RMSE linear                0.000583  0.000174       0.0  0.000192   0.00078   \n",
       "RMSE polynomial            0.000658  0.000218  0.000001  0.000281  0.000952   \n",
       "RMSE spline                0.007113  0.002115  0.000025  0.000142  0.001469   \n",
       "RMSE nearest               0.000815  0.000218  0.000001  0.000327  0.000891   \n",
       "RMSE ffill                 0.000795  0.000217  0.000001  0.000327  0.000892   \n",
       "RMSE bfill                 0.000919  0.000217  0.000001  0.000188  0.000911   \n",
       "# samples in Validation       15050     16071     15477     15266     13958   \n",
       "% of NaN in entire column  0.014219  0.012943  0.013181  0.013429  0.014329   \n",
       "# Deleted for test set          214       208       204       205       200   \n",
       "# NA in validation set           10        10        10        10        10   \n",
       "\n",
       "Column                          PFM  \n",
       "Best method                  linear  \n",
       "Best RMSE                  0.080613  \n",
       "RMSE linear                0.080613  \n",
       "RMSE polynomial             0.09578  \n",
       "RMSE spline                0.106017  \n",
       "RMSE nearest               0.093488  \n",
       "RMSE ffill                  0.09349  \n",
       "RMSE bfill                 0.091582  \n",
       "# samples in Validation       15050  \n",
       "% of NaN in entire column   0.01402  \n",
       "# Deleted for test set          211  \n",
       "# NA in validation set           10  "
      ],
      "text/html": [
       "<div>\n",
       "<style scoped>\n",
       "    .dataframe tbody tr th:only-of-type {\n",
       "        vertical-align: middle;\n",
       "    }\n",
       "\n",
       "    .dataframe tbody tr th {\n",
       "        vertical-align: top;\n",
       "    }\n",
       "\n",
       "    .dataframe thead th {\n",
       "        text-align: right;\n",
       "    }\n",
       "</style>\n",
       "<table border=\"1\" class=\"dataframe\">\n",
       "  <thead>\n",
       "    <tr style=\"text-align: right;\">\n",
       "      <th>Column</th>\n",
       "      <th>Tp</th>\n",
       "      <th>pH</th>\n",
       "      <th>Cond</th>\n",
       "      <th>Turb</th>\n",
       "      <th>SAC</th>\n",
       "      <th>PFM</th>\n",
       "    </tr>\n",
       "  </thead>\n",
       "  <tbody>\n",
       "    <tr>\n",
       "      <th>Best method</th>\n",
       "      <td>linear</td>\n",
       "      <td>linear</td>\n",
       "      <td>linear</td>\n",
       "      <td>spline</td>\n",
       "      <td>linear</td>\n",
       "      <td>linear</td>\n",
       "    </tr>\n",
       "    <tr>\n",
       "      <th>Best RMSE</th>\n",
       "      <td>0.000583</td>\n",
       "      <td>0.000174</td>\n",
       "      <td>0.0</td>\n",
       "      <td>0.000142</td>\n",
       "      <td>0.00078</td>\n",
       "      <td>0.080613</td>\n",
       "    </tr>\n",
       "    <tr>\n",
       "      <th>RMSE linear</th>\n",
       "      <td>0.000583</td>\n",
       "      <td>0.000174</td>\n",
       "      <td>0.0</td>\n",
       "      <td>0.000192</td>\n",
       "      <td>0.00078</td>\n",
       "      <td>0.080613</td>\n",
       "    </tr>\n",
       "    <tr>\n",
       "      <th>RMSE polynomial</th>\n",
       "      <td>0.000658</td>\n",
       "      <td>0.000218</td>\n",
       "      <td>0.000001</td>\n",
       "      <td>0.000281</td>\n",
       "      <td>0.000952</td>\n",
       "      <td>0.09578</td>\n",
       "    </tr>\n",
       "    <tr>\n",
       "      <th>RMSE spline</th>\n",
       "      <td>0.007113</td>\n",
       "      <td>0.002115</td>\n",
       "      <td>0.000025</td>\n",
       "      <td>0.000142</td>\n",
       "      <td>0.001469</td>\n",
       "      <td>0.106017</td>\n",
       "    </tr>\n",
       "    <tr>\n",
       "      <th>RMSE nearest</th>\n",
       "      <td>0.000815</td>\n",
       "      <td>0.000218</td>\n",
       "      <td>0.000001</td>\n",
       "      <td>0.000327</td>\n",
       "      <td>0.000891</td>\n",
       "      <td>0.093488</td>\n",
       "    </tr>\n",
       "    <tr>\n",
       "      <th>RMSE ffill</th>\n",
       "      <td>0.000795</td>\n",
       "      <td>0.000217</td>\n",
       "      <td>0.000001</td>\n",
       "      <td>0.000327</td>\n",
       "      <td>0.000892</td>\n",
       "      <td>0.09349</td>\n",
       "    </tr>\n",
       "    <tr>\n",
       "      <th>RMSE bfill</th>\n",
       "      <td>0.000919</td>\n",
       "      <td>0.000217</td>\n",
       "      <td>0.000001</td>\n",
       "      <td>0.000188</td>\n",
       "      <td>0.000911</td>\n",
       "      <td>0.091582</td>\n",
       "    </tr>\n",
       "    <tr>\n",
       "      <th># samples in Validation</th>\n",
       "      <td>15050</td>\n",
       "      <td>16071</td>\n",
       "      <td>15477</td>\n",
       "      <td>15266</td>\n",
       "      <td>13958</td>\n",
       "      <td>15050</td>\n",
       "    </tr>\n",
       "    <tr>\n",
       "      <th>% of NaN in entire column</th>\n",
       "      <td>0.014219</td>\n",
       "      <td>0.012943</td>\n",
       "      <td>0.013181</td>\n",
       "      <td>0.013429</td>\n",
       "      <td>0.014329</td>\n",
       "      <td>0.01402</td>\n",
       "    </tr>\n",
       "    <tr>\n",
       "      <th># Deleted for test set</th>\n",
       "      <td>214</td>\n",
       "      <td>208</td>\n",
       "      <td>204</td>\n",
       "      <td>205</td>\n",
       "      <td>200</td>\n",
       "      <td>211</td>\n",
       "    </tr>\n",
       "    <tr>\n",
       "      <th># NA in validation set</th>\n",
       "      <td>10</td>\n",
       "      <td>10</td>\n",
       "      <td>10</td>\n",
       "      <td>10</td>\n",
       "      <td>10</td>\n",
       "      <td>10</td>\n",
       "    </tr>\n",
       "  </tbody>\n",
       "</table>\n",
       "</div>"
      ]
     },
     "execution_count": 8,
     "metadata": {},
     "output_type": "execute_result"
    }
   ],
   "execution_count": 8
  },
  {
   "metadata": {},
   "cell_type": "markdown",
   "source": [
    "This table shows the performance of each method as well as stats like the proportion of Na values in the column and the number of deleted samples for producing the test set with missing values.\n",
    "\n",
    "As expected, there is not much difference between the methods.\n",
    "Overall, the linear method seems to perform the best.\n",
    "\n",
    "Since we do not have an expedient number of missing values, we will forgo trying Gaussian Processes for missing value reconstruction.\n",
    "\n",
    "Ultimately, we use the best method for each column to fill the missing values in the entire dataset."
   ],
   "id": "eab3283bd2e5970e"
  },
  {
   "cell_type": "markdown",
   "id": "43b9c8f5-c689-4c35-b0f0-85b104c90d3c",
   "metadata": {},
   "source": [
    "## Auto Correlation Plot"
   ]
  },
  {
   "cell_type": "code",
   "id": "041065c2-ee6f-47db-9625-cdc5b281fb99",
   "metadata": {
    "ExecuteTime": {
     "end_time": "2024-11-29T14:20:59.251857Z",
     "start_time": "2024-11-29T14:20:59.248624Z"
    }
   },
   "source": "",
   "outputs": [],
   "execution_count": null
  },
  {
   "cell_type": "code",
   "id": "175af087-a95f-40e0-9d81-0e047116d1bf",
   "metadata": {
    "ExecuteTime": {
     "end_time": "2024-11-29T14:20:59.311945Z",
     "start_time": "2024-11-29T14:20:59.307762Z"
    }
   },
   "source": [
    "#üfor column in data.columns:\n",
    "##    display(util.plot_autocorrelation(data[column], figsize))\n",
    "#util.plot_autocorrelation(data[\"Tp\"], figsize)"
   ],
   "outputs": [],
   "execution_count": 9
  },
  {
   "cell_type": "markdown",
   "id": "240bf833-d28b-4ae7-8cd8-36552c9ffcc9",
   "metadata": {},
   "source": [
    "## Test for markov property"
   ]
  },
  {
   "cell_type": "markdown",
   "id": "efc8215c-96ea-4670-b201-fa78f986f514",
   "metadata": {},
   "source": [
    "In the lectures, wen defined the alarm signal we strive to minimize:\n",
    "$$\n",
    "-\\log f(x, θ) \\geq ε\n",
    "$$\n",
    "where $$ f(x, θ) $$ is the true distribution function."
   ]
  },
  {
   "cell_type": "markdown",
   "id": "fc19049d-1bbf-444f-a1b5-6f4d056ec55c",
   "metadata": {},
   "source": [
    "## Investigation\n",
    "Determining the period:"
   ]
  },
  {
   "cell_type": "markdown",
   "id": "8aa5fbd0-a40d-4885-a430-24fefff51a5e",
   "metadata": {},
   "source": [
    "# Multivariate Kernel Density Estimation\n",
    "The first approach presented in the lecture is **Kernel Density Estimation**\n",
    "\n",
    "In order to employ **KDE**, we need to determine the optimal **Kernel Function** and **Bandwidth**. \n",
    "Since we have multiple columns, we cannot use the Rule Of Thumb for the latter. Therefore, we need to optimize the following term according to the lecture: \n",
    "$$\n",
    "\\mathop{\\arg\\max}_{h} \\mathbb{E}_{x \\sim f(x), \\bar{x} \\sim f(x)}\\left[ L(h, x, \\bar{x})\\right]\n",
    "$$\n",
    "where\n",
    "- $$\n",
    "L(h, x, \\bar{x}) = \\prod_{i=1}^m \\hat{f}(x_i, \\bar{x}_i, h)\n",
    "$$\n",
    "- $\\hat{f}$ is the density estimator (which outputs a probability)\n",
    "- $\\bar{x}$ the training set\n",
    "\n",
    "according to the lecture.\n"
   ]
  }
 ],
 "metadata": {
  "kernelspec": {
   "display_name": "Python 3 (ipykernel)",
   "language": "python",
   "name": "python3"
  },
  "language_info": {
   "codemirror_mode": {
    "name": "ipython",
    "version": 3
   },
   "file_extension": ".py",
   "mimetype": "text/x-python",
   "name": "python",
   "nbconvert_exporter": "python",
   "pygments_lexer": "ipython3",
   "version": "3.12.7"
  }
 },
 "nbformat": 4,
 "nbformat_minor": 5
}
