{
 "cells": [
  {
   "cell_type": "code",
   "execution_count": 27,
   "id": "3db9a370-3f21-49b6-a6be-e414f03d1e61",
   "metadata": {
    "ExecuteTime": {
     "end_time": "2024-11-17T19:23:29.075427Z",
     "start_time": "2024-11-17T19:23:28.954082Z"
    }
   },
   "outputs": [
    {
     "name": "stdout",
     "output_type": "stream",
     "text": [
      "The autoreload extension is already loaded. To reload it, use:\n",
      "  %reload_ext autoreload\n"
     ]
    }
   ],
   "source": [
    "# ============================================================\n",
    "# Notebook setup: run this before everything\n",
    "# ============================================================\n",
    "# -- Copied from lecture\n",
    "%load_ext autoreload\n",
    "%autoreload 1\n",
    "%aimport util\n",
    "from util import util\n",
    "import numpy as np4\n",
    "# from matplotlib import pyplot as plt\n",
    "import pandas as pd\n",
    "\n",
    "# Control figure size\n",
    "interactive_figures = False\n",
    "if interactive_figures:\n",
    "    # Normal behavior\n",
    "    %matplotlib widget\n",
    "    figsize=(9, 3)\n",
    "else:\n",
    "    # PDF export behavior\n",
    "    figsize=(14, 4)\n",
    "\n",
    "data_folder = '../resources/dataset'\n",
    "file_name = '1_gecco2019_water_quality.csv'\n",
    "# Load the input data\n",
    "data_path = f'{data_folder}/{file_name}'\n",
    "data = pd.read_csv(data_path)\n",
    "data['Time'] = pd.to_datetime(data['Time'])\n",
    "data.set_index('Time', inplace=True)\n",
    "data = data.drop(columns=[\"Unnamed: 0\"])"
   ]
  },
  {
   "cell_type": "code",
   "execution_count": 15,
   "id": "ecd3101feeb91e49",
   "metadata": {},
   "outputs": [
    {
     "data": {
      "text/plain": [
       "Time\n",
       "0 days 00:01:00    132479\n",
       "Name: count, dtype: int64"
      ]
     },
     "execution_count": 15,
     "metadata": {},
     "output_type": "execute_result"
    }
   ],
   "source": [
    "(data.index[1:] - data.index[:-1]).value_counts()"
   ]
  },
  {
   "cell_type": "markdown",
   "id": "e4edfe516ccef987",
   "metadata": {},
   "source": [
    "Luckily, the indices are already aligned to a sampling period of 1min.\n",
    "We also see that no datapoint is missing because this would lead to inconsistent deltas\n",
    "between datapoints.\n",
    "\n",
    "Apart from the timestamps, we have the following columns:"
   ]
  },
  {
   "cell_type": "code",
   "execution_count": 26,
   "id": "12cca97d-5829-4f53-bccc-62f76bed55b7",
   "metadata": {},
   "outputs": [
    {
     "data": {
      "text/plain": [
       "'Tp, pH, Cond, Turb, SAC, PFM, Event'"
      ]
     },
     "execution_count": 26,
     "metadata": {},
     "output_type": "execute_result"
    }
   ],
   "source": [
    "\", \".join(data.columns)"
   ]
  },
  {
   "cell_type": "markdown",
   "id": "efc8215c-96ea-4670-b201-fa78f986f514",
   "metadata": {},
   "source": [
    "In the lectures, wen defined the alarm signal we strive to minimize:\n",
    "$$\n",
    "-\\log f(x, \\theta) \\geq \\varepsilon\n",
    "$$"
   ]
  }
 ],
 "metadata": {
  "kernelspec": {
   "display_name": "Python 3 (ipykernel)",
   "language": "python",
   "name": "python3"
  },
  "language_info": {
   "codemirror_mode": {
    "name": "ipython",
    "version": 3
   },
   "file_extension": ".py",
   "mimetype": "text/x-python",
   "name": "python",
   "nbconvert_exporter": "python",
   "pygments_lexer": "ipython3",
   "version": "3.12.7"
  }
 },
 "nbformat": 4,
 "nbformat_minor": 5
}
