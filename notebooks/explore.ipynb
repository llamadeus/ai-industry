{
 "cells": [
  {
   "cell_type": "code",
   "execution_count": 15,
   "id": "3db9a370-3f21-49b6-a6be-e414f03d1e61",
   "metadata": {
    "ExecuteTime": {
     "end_time": "2025-02-21T12:49:21.118958Z",
     "start_time": "2025-02-21T12:49:20.947072Z"
    }
   },
   "outputs": [
    {
     "name": "stdout",
     "output_type": "stream",
     "text": [
      "The autoreload extension is already loaded. To reload it, use:\n",
      "  %reload_ext autoreload\n"
     ]
    }
   ],
   "source": [
    "from pandas.core.interchange.dataframe_protocol import DataFrame\n",
    "# ============================================================\n",
    "# Notebook setup: run this before everything\n",
    "# ============================================================\n",
    "# -- Copied from lecture\n",
    "%load_ext autoreload\n",
    "%config IPCompleter.greedy=True\n",
    "%autoreload 1\n",
    "%aimport util\n",
    "from util import util\n",
    "import importlib\n",
    "import numpy as np\n",
    "from matplotlib import pyplot as plt\n",
    "import pandas as pd\n",
    "from sklearn.neighbors import KernelDensity\n",
    "from sklearn.mixture import GaussianMixture\n",
    "from sklearn.metrics import mean_squared_error\n",
    "from IPython.display import display\n",
    "from collections import Counter\n",
    "import seaborn as sns\n",
    "import logging\n",
    "from datetime import timedelta\n",
    "\n",
    "# Set up logging\n",
    "logging.basicConfig(level=logging.INFO, format='%(asctime)s - %(levelname)s - %(message)s')\n",
    "\n",
    "# Control figure size\n",
    "interactive_figures = False\n",
    "if interactive_figures:\n",
    "    # Normal behavior\n",
    "    %matplotlib widget\n",
    "    figsize=(9, 3)\n",
    "else:\n",
    "    # PDF export behavior\n",
    "    figsize=(14, 4)\n",
    "\n",
    "data_folder = '../resources/dataset'\n",
    "file_name = '7_gecco2019_train_water_quality.csv'\n",
    "# Load the input data\n",
    "data_path = f'{data_folder}/{file_name}'\n",
    "raw_data = pd.read_csv(data_path)\n",
    "raw_data['Time'] = pd.to_datetime(raw_data['Time'])\n",
    "raw_data.set_index('Time', inplace=True)\n",
    "raw_data = raw_data.drop(columns=[\"Unnamed: 0\"]) # The index was stored as an unnamed column"
   ]
  },
  {
   "cell_type": "markdown",
   "id": "7676a778-7405-42c0-8f70-e76103151c92",
   "metadata": {},
   "source": [
    "# Missing Values"
   ]
  },
  {
   "cell_type": "markdown",
   "id": "636e70e3",
   "metadata": {},
   "source": [
    "## Investigation"
   ]
  },
  {
   "cell_type": "markdown",
   "id": "275c512aac31b0d9",
   "metadata": {},
   "source": [
    "First, we see that most of our values are floating point numbers, except for the `Event` column which is our label, that is,\n",
    "whether we are dealing with an anomaly or not."
   ]
  },
  {
   "cell_type": "code",
   "execution_count": 16,
   "id": "d0cc4880-10e7-4f49-bedb-e873f3f92b1f",
   "metadata": {
    "ExecuteTime": {
     "end_time": "2025-02-21T12:49:21.212942Z",
     "start_time": "2025-02-21T12:49:21.179091Z"
    }
   },
   "outputs": [
    {
     "name": "stdout",
     "output_type": "stream",
     "text": [
      "Columns: \n",
      "{'Tp': dtype('float64'), 'pH': dtype('float64'), 'Cond': dtype('float64'), 'Turb': dtype('float64'), 'SAC': dtype('float64'), 'PFM': dtype('float64'), 'Event': dtype('bool')}\n"
     ]
    },
    {
     "data": {
      "text/html": [
       "<div>\n",
       "<style scoped>\n",
       "    .dataframe tbody tr th:only-of-type {\n",
       "        vertical-align: middle;\n",
       "    }\n",
       "\n",
       "    .dataframe tbody tr th {\n",
       "        vertical-align: top;\n",
       "    }\n",
       "\n",
       "    .dataframe thead th {\n",
       "        text-align: right;\n",
       "    }\n",
       "</style>\n",
       "<table border=\"1\" class=\"dataframe\">\n",
       "  <thead>\n",
       "    <tr style=\"text-align: right;\">\n",
       "      <th></th>\n",
       "      <th>Tp</th>\n",
       "      <th>pH</th>\n",
       "      <th>Cond</th>\n",
       "      <th>Turb</th>\n",
       "      <th>SAC</th>\n",
       "      <th>PFM</th>\n",
       "    </tr>\n",
       "  </thead>\n",
       "  <tbody>\n",
       "    <tr>\n",
       "      <th>count</th>\n",
       "      <td>132266.000000</td>\n",
       "      <td>132272.000000</td>\n",
       "      <td>132276.000000</td>\n",
       "      <td>132275.000000</td>\n",
       "      <td>132280.000000</td>\n",
       "      <td>132269.000000</td>\n",
       "    </tr>\n",
       "    <tr>\n",
       "      <th>mean</th>\n",
       "      <td>8.041982</td>\n",
       "      <td>8.533168</td>\n",
       "      <td>0.021095</td>\n",
       "      <td>0.128368</td>\n",
       "      <td>4.100425</td>\n",
       "      <td>68.660980</td>\n",
       "    </tr>\n",
       "    <tr>\n",
       "      <th>std</th>\n",
       "      <td>0.893687</td>\n",
       "      <td>0.052646</td>\n",
       "      <td>0.000347</td>\n",
       "      <td>0.005928</td>\n",
       "      <td>0.304104</td>\n",
       "      <td>11.420472</td>\n",
       "    </tr>\n",
       "    <tr>\n",
       "      <th>min</th>\n",
       "      <td>0.000000</td>\n",
       "      <td>0.000000</td>\n",
       "      <td>0.000000</td>\n",
       "      <td>0.000000</td>\n",
       "      <td>0.000000</td>\n",
       "      <td>42.163100</td>\n",
       "    </tr>\n",
       "    <tr>\n",
       "      <th>25%</th>\n",
       "      <td>7.250000</td>\n",
       "      <td>8.502780</td>\n",
       "      <td>0.020871</td>\n",
       "      <td>0.127160</td>\n",
       "      <td>3.816430</td>\n",
       "      <td>60.484900</td>\n",
       "    </tr>\n",
       "    <tr>\n",
       "      <th>50%</th>\n",
       "      <td>7.880000</td>\n",
       "      <td>8.539630</td>\n",
       "      <td>0.021102</td>\n",
       "      <td>0.127754</td>\n",
       "      <td>4.125515</td>\n",
       "      <td>71.440700</td>\n",
       "    </tr>\n",
       "    <tr>\n",
       "      <th>75%</th>\n",
       "      <td>8.710000</td>\n",
       "      <td>8.563490</td>\n",
       "      <td>0.021327</td>\n",
       "      <td>0.128686</td>\n",
       "      <td>4.395750</td>\n",
       "      <td>79.076900</td>\n",
       "    </tr>\n",
       "    <tr>\n",
       "      <th>max</th>\n",
       "      <td>10.300000</td>\n",
       "      <td>8.666760</td>\n",
       "      <td>0.023214</td>\n",
       "      <td>1.782850</td>\n",
       "      <td>6.102071</td>\n",
       "      <td>84.815100</td>\n",
       "    </tr>\n",
       "  </tbody>\n",
       "</table>\n",
       "</div>"
      ],
      "text/plain": [
       "                  Tp             pH           Cond           Turb  \\\n",
       "count  132266.000000  132272.000000  132276.000000  132275.000000   \n",
       "mean        8.041982       8.533168       0.021095       0.128368   \n",
       "std         0.893687       0.052646       0.000347       0.005928   \n",
       "min         0.000000       0.000000       0.000000       0.000000   \n",
       "25%         7.250000       8.502780       0.020871       0.127160   \n",
       "50%         7.880000       8.539630       0.021102       0.127754   \n",
       "75%         8.710000       8.563490       0.021327       0.128686   \n",
       "max        10.300000       8.666760       0.023214       1.782850   \n",
       "\n",
       "                 SAC            PFM  \n",
       "count  132280.000000  132269.000000  \n",
       "mean        4.100425      68.660980  \n",
       "std         0.304104      11.420472  \n",
       "min         0.000000      42.163100  \n",
       "25%         3.816430      60.484900  \n",
       "50%         4.125515      71.440700  \n",
       "75%         4.395750      79.076900  \n",
       "max         6.102071      84.815100  "
      ]
     },
     "execution_count": 16,
     "metadata": {},
     "output_type": "execute_result"
    }
   ],
   "source": [
    "print(\"Columns: \")\n",
    "print({column: raw_data[column].dtype for column in raw_data.columns})\n",
    "raw_data.describe()"
   ]
  },
  {
   "cell_type": "markdown",
   "id": "3312977ff014a3dc",
   "metadata": {},
   "source": [
    "We will now look at the alignment and completeness of the sample timeslots:"
   ]
  },
  {
   "cell_type": "code",
   "execution_count": 17,
   "id": "ecd3101feeb91e49",
   "metadata": {
    "ExecuteTime": {
     "end_time": "2025-02-21T12:49:21.266474Z",
     "start_time": "2025-02-21T12:49:21.258462Z"
    }
   },
   "outputs": [
    {
     "data": {
      "text/plain": [
       "Time\n",
       "0 days 00:01:00    132479\n",
       "Name: count, dtype: int64"
      ]
     },
     "execution_count": 17,
     "metadata": {},
     "output_type": "execute_result"
    }
   ],
   "source": [
    "sample_delta = (raw_data.index[1] - raw_data.index[0])\n",
    "(raw_data.index[1:] - raw_data.index[:-1]).value_counts()"
   ]
  },
  {
   "cell_type": "markdown",
   "id": "4122565e523f06c1",
   "metadata": {},
   "source": [
    "We see that the timeslots are regular and not missing.\n",
    "\n",
    "Now, we will look at missing values:"
   ]
  },
  {
   "cell_type": "code",
   "execution_count": 18,
   "id": "5aaa7a31ca6d98a3",
   "metadata": {
    "ExecuteTime": {
     "end_time": "2025-02-21T12:49:21.342889Z",
     "start_time": "2025-02-21T12:49:21.330160Z"
    }
   },
   "outputs": [
    {
     "name": "stdout",
     "output_type": "stream",
     "text": [
      "Columns containing missing values:\n",
      "Tp        True\n",
      "pH        True\n",
      "Cond      True\n",
      "Turb      True\n",
      "SAC       True\n",
      "PFM       True\n",
      "Event    False\n",
      "dtype: bool\n",
      "Some rows containing missing values:\n"
     ]
    },
    {
     "data": {
      "text/html": [
       "<div>\n",
       "<style scoped>\n",
       "    .dataframe tbody tr th:only-of-type {\n",
       "        vertical-align: middle;\n",
       "    }\n",
       "\n",
       "    .dataframe tbody tr th {\n",
       "        vertical-align: top;\n",
       "    }\n",
       "\n",
       "    .dataframe thead th {\n",
       "        text-align: right;\n",
       "    }\n",
       "</style>\n",
       "<table border=\"1\" class=\"dataframe\">\n",
       "  <thead>\n",
       "    <tr style=\"text-align: right;\">\n",
       "      <th></th>\n",
       "      <th>Tp</th>\n",
       "      <th>pH</th>\n",
       "      <th>Cond</th>\n",
       "      <th>Turb</th>\n",
       "      <th>SAC</th>\n",
       "      <th>PFM</th>\n",
       "      <th>Event</th>\n",
       "    </tr>\n",
       "    <tr>\n",
       "      <th>Time</th>\n",
       "      <th></th>\n",
       "      <th></th>\n",
       "      <th></th>\n",
       "      <th></th>\n",
       "      <th></th>\n",
       "      <th></th>\n",
       "      <th></th>\n",
       "    </tr>\n",
       "  </thead>\n",
       "  <tbody>\n",
       "    <tr>\n",
       "      <th>2017-07-01 13:24:00</th>\n",
       "      <td>NaN</td>\n",
       "      <td>NaN</td>\n",
       "      <td>NaN</td>\n",
       "      <td>NaN</td>\n",
       "      <td>NaN</td>\n",
       "      <td>NaN</td>\n",
       "      <td>False</td>\n",
       "    </tr>\n",
       "    <tr>\n",
       "      <th>2017-07-01 17:00:00</th>\n",
       "      <td>NaN</td>\n",
       "      <td>8.58873</td>\n",
       "      <td>NaN</td>\n",
       "      <td>0.126537</td>\n",
       "      <td>3.58901</td>\n",
       "      <td>NaN</td>\n",
       "      <td>False</td>\n",
       "    </tr>\n",
       "    <tr>\n",
       "      <th>2017-07-02 22:08:00</th>\n",
       "      <td>NaN</td>\n",
       "      <td>NaN</td>\n",
       "      <td>NaN</td>\n",
       "      <td>NaN</td>\n",
       "      <td>NaN</td>\n",
       "      <td>NaN</td>\n",
       "      <td>False</td>\n",
       "    </tr>\n",
       "    <tr>\n",
       "      <th>2017-07-03 01:46:00</th>\n",
       "      <td>7.1</td>\n",
       "      <td>8.55185</td>\n",
       "      <td>0.021717</td>\n",
       "      <td>NaN</td>\n",
       "      <td>NaN</td>\n",
       "      <td>44.7191</td>\n",
       "      <td>False</td>\n",
       "    </tr>\n",
       "    <tr>\n",
       "      <th>2017-07-03 05:23:00</th>\n",
       "      <td>NaN</td>\n",
       "      <td>NaN</td>\n",
       "      <td>NaN</td>\n",
       "      <td>NaN</td>\n",
       "      <td>NaN</td>\n",
       "      <td>NaN</td>\n",
       "      <td>False</td>\n",
       "    </tr>\n",
       "  </tbody>\n",
       "</table>\n",
       "</div>"
      ],
      "text/plain": [
       "                      Tp       pH      Cond      Turb      SAC      PFM  Event\n",
       "Time                                                                          \n",
       "2017-07-01 13:24:00  NaN      NaN       NaN       NaN      NaN      NaN  False\n",
       "2017-07-01 17:00:00  NaN  8.58873       NaN  0.126537  3.58901      NaN  False\n",
       "2017-07-02 22:08:00  NaN      NaN       NaN       NaN      NaN      NaN  False\n",
       "2017-07-03 01:46:00  7.1  8.55185  0.021717       NaN      NaN  44.7191  False\n",
       "2017-07-03 05:23:00  NaN      NaN       NaN       NaN      NaN      NaN  False"
      ]
     },
     "execution_count": 18,
     "metadata": {},
     "output_type": "execute_result"
    }
   ],
   "source": [
    "print(\"Columns containing missing values:\")\n",
    "print(raw_data.isna().any())\n",
    "print(\"Some rows containing missing values:\")\n",
    "raw_data.loc[raw_data.isna().any(axis=1)].head()"
   ]
  },
  {
   "cell_type": "markdown",
   "id": "db4644d7de1903b5",
   "metadata": {},
   "source": [
    "As we can see, there are quite a few missing values in our dataset. Each column has some.\n",
    "\n",
    "We will now try to characterize the distribution in which they show up."
   ]
  },
  {
   "cell_type": "code",
   "execution_count": 19,
   "id": "df02e7239ec31b50",
   "metadata": {
    "ExecuteTime": {
     "end_time": "2025-02-21T12:49:21.507556Z",
     "start_time": "2025-02-21T12:49:21.489610Z"
    }
   },
   "outputs": [
    {
     "name": "stdout",
     "output_type": "stream",
     "text": [
      "\n",
      "Column: \u001b[1mTp\u001b[0m\n",
      "There are \u001b[1m201\u001b[0m NA-sequences of length \u001b[1m1\u001b[0m\n",
      "There are \u001b[1m1\u001b[0m NA-sequences of length \u001b[1m3\u001b[0m\n",
      "There are \u001b[1m1\u001b[0m NA-sequences of length \u001b[1m10\u001b[0m\n",
      "\n",
      "Column: \u001b[1mpH\u001b[0m\n",
      "There are \u001b[1m195\u001b[0m NA-sequences of length \u001b[1m1\u001b[0m\n",
      "There are \u001b[1m1\u001b[0m NA-sequences of length \u001b[1m3\u001b[0m\n",
      "There are \u001b[1m1\u001b[0m NA-sequences of length \u001b[1m10\u001b[0m\n",
      "\n",
      "Column: \u001b[1mCond\u001b[0m\n",
      "There are \u001b[1m191\u001b[0m NA-sequences of length \u001b[1m1\u001b[0m\n",
      "There are \u001b[1m1\u001b[0m NA-sequences of length \u001b[1m3\u001b[0m\n",
      "There are \u001b[1m1\u001b[0m NA-sequences of length \u001b[1m10\u001b[0m\n",
      "\n",
      "Column: \u001b[1mTurb\u001b[0m\n",
      "There are \u001b[1m195\u001b[0m NA-sequences of length \u001b[1m1\u001b[0m\n",
      "There are \u001b[1m1\u001b[0m NA-sequences of length \u001b[1m10\u001b[0m\n",
      "\n",
      "Column: \u001b[1mSAC\u001b[0m\n",
      "There are \u001b[1m188\u001b[0m NA-sequences of length \u001b[1m1\u001b[0m\n",
      "There are \u001b[1m1\u001b[0m NA-sequences of length \u001b[1m2\u001b[0m\n",
      "There are \u001b[1m1\u001b[0m NA-sequences of length \u001b[1m10\u001b[0m\n",
      "\n",
      "Column: \u001b[1mPFM\u001b[0m\n",
      "There are \u001b[1m198\u001b[0m NA-sequences of length \u001b[1m1\u001b[0m\n",
      "There are \u001b[1m1\u001b[0m NA-sequences of length \u001b[1m3\u001b[0m\n",
      "There are \u001b[1m1\u001b[0m NA-sequences of length \u001b[1m10\u001b[0m\n"
     ]
    }
   ],
   "source": [
    "\n",
    "for column in raw_data.drop(columns=[\"Event\"]).columns:\n",
    "    print()\n",
    "    print(\"Column:\", util.bold(column))\n",
    "    series = util.calculate_na_series(raw_data[column])\n",
    "    for length, count in Counter(map(int, series[:, 1])).most_common():\n",
    "        print(f\"There are {util.bold(count)} NA-sequences of length {util.bold(length)}\")"
   ]
  },
  {
   "cell_type": "markdown",
   "id": "d098c78b3e931ee9",
   "metadata": {},
   "source": [
    "We see that most missing values just come up randomly and not in a bunch.\n",
    "The segments of 10 consecutive NA values across all columns seems suspicious though.\n",
    "\n",
    "Let's see if this is the same for all."
   ]
  },
  {
   "cell_type": "code",
   "execution_count": 20,
   "id": "f2ddd2d5d2a29715",
   "metadata": {
    "ExecuteTime": {
     "end_time": "2025-02-21T12:49:21.614441Z",
     "start_time": "2025-02-21T12:49:21.607533Z"
    }
   },
   "outputs": [
    {
     "data": {
      "text/plain": [
       "array([[78550,    10]])"
      ]
     },
     "execution_count": 20,
     "metadata": {},
     "output_type": "execute_result"
    }
   ],
   "source": [
    "collective_na_series = util.calculate_true_series(raw_data.drop(columns=\"Event\").isna().to_numpy().all(axis=1))\n",
    "collective_na_series[collective_na_series[:,1] > 1]"
   ]
  },
  {
   "cell_type": "markdown",
   "id": "abc3bbdd59a6e0c0",
   "metadata": {},
   "source": [
    "Indeed, we see that there is only one index with a series of timestamps where all entries are 0 (that is more than timeslot long).\n",
    "It starts at index 78550.\n",
    "\n",
    "Since most of them however, just come up individually, we would expect that naive filling algorithms should perform well enough as more complex ones.\n",
    "\n",
    "By the way, respectively the other series' with more than one consecutive Na look like this. Note that all of them are classified as an anomaly."
   ]
  },
  {
   "cell_type": "code",
   "execution_count": 21,
   "id": "f9e2f726257e8259",
   "metadata": {
    "ExecuteTime": {
     "end_time": "2025-02-21T12:49:21.721119Z",
     "start_time": "2025-02-21T12:49:21.703245Z"
    }
   },
   "outputs": [
    {
     "data": {
      "text/plain": [
       "[                     Tp  pH  Cond      Turb      SAC  PFM  Event\n",
       " Time                                                            \n",
       " 2017-08-24 12:42:00 NaN NaN   NaN  0.153299  4.24212  NaN   True\n",
       " 2017-08-24 12:43:00 NaN NaN   NaN  0.158719      NaN  NaN   True\n",
       " 2017-08-24 12:44:00 NaN NaN   NaN       NaN      NaN  NaN   True]"
      ]
     },
     "metadata": {},
     "output_type": "display_data"
    },
    {
     "data": {
      "text/plain": [
       "[                     Tp  pH  Cond      Turb      SAC  PFM  Event\n",
       " Time                                                            \n",
       " 2017-08-24 12:42:00 NaN NaN   NaN  0.153299  4.24212  NaN   True\n",
       " 2017-08-24 12:43:00 NaN NaN   NaN  0.158719      NaN  NaN   True\n",
       " 2017-08-24 12:44:00 NaN NaN   NaN       NaN      NaN  NaN   True]"
      ]
     },
     "metadata": {},
     "output_type": "display_data"
    },
    {
     "data": {
      "text/plain": [
       "[                     Tp  pH  Cond      Turb      SAC  PFM  Event\n",
       " Time                                                            \n",
       " 2017-08-24 12:42:00 NaN NaN   NaN  0.153299  4.24212  NaN   True\n",
       " 2017-08-24 12:43:00 NaN NaN   NaN  0.158719      NaN  NaN   True\n",
       " 2017-08-24 12:44:00 NaN NaN   NaN       NaN      NaN  NaN   True]"
      ]
     },
     "metadata": {},
     "output_type": "display_data"
    },
    {
     "data": {
      "text/plain": [
       "[                     Tp  pH  Cond      Turb      SAC  PFM  Event\n",
       " Time                                                            \n",
       " 2017-08-24 12:42:00 NaN NaN   NaN  0.153299  4.24212  NaN   True\n",
       " 2017-08-24 12:43:00 NaN NaN   NaN  0.158719      NaN  NaN   True\n",
       " 2017-08-24 12:44:00 NaN NaN   NaN       NaN      NaN  NaN   True]"
      ]
     },
     "metadata": {},
     "output_type": "display_data"
    },
    {
     "data": {
      "text/plain": [
       "[                     Tp  pH  Cond      Turb      SAC  PFM  Event\n",
       " Time                                                            \n",
       " 2017-08-24 12:42:00 NaN NaN   NaN  0.153299  4.24212  NaN   True\n",
       " 2017-08-24 12:43:00 NaN NaN   NaN  0.158719      NaN  NaN   True\n",
       " 2017-08-24 12:44:00 NaN NaN   NaN       NaN      NaN  NaN   True]"
      ]
     },
     "metadata": {},
     "output_type": "display_data"
    },
    {
     "data": {
      "text/plain": [
       "[                     Tp  pH  Cond      Turb      SAC  PFM  Event\n",
       " Time                                                            \n",
       " 2017-08-24 12:42:00 NaN NaN   NaN  0.153299  4.24212  NaN   True\n",
       " 2017-08-24 12:43:00 NaN NaN   NaN  0.158719      NaN  NaN   True\n",
       " 2017-08-24 12:44:00 NaN NaN   NaN       NaN      NaN  NaN   True]"
      ]
     },
     "metadata": {},
     "output_type": "display_data"
    }
   ],
   "source": [
    "for column in raw_data.drop(columns=\"Event\").columns:\n",
    "    longer_segments = series[np.logical_and(series[:, 1] > 1, series[:, 1] < 10)]\n",
    "    display([raw_data.iloc[i:i + l] for i, l in longer_segments])"
   ]
  },
  {
   "cell_type": "markdown",
   "id": "06cf06bd",
   "metadata": {},
   "source": [
    "## Anomalies\n",
    "In order to train our models, we need a dataset which does not contain anomalies.\n",
    "Therefore, we will now do the same analysis we did for missing values with anomalies in our training set.\n",
    "We do this so we can characterize the distribution with which anomalies are distributed across time.\n",
    "\n",
    "Afterwards, we will overwrite all anomalies with NaN and treat them as missing values.\n",
    "We then look for a segment with few missing values. \n",
    "Using the uniform distribution of the original missing values, delete some of the values in that segment.\n",
    "After, we repeat but using the distribution of the anomalies.\n",
    "Then, we can use different strategies and compare how well they reconstruct the original distribution."
   ]
  },
  {
   "cell_type": "code",
   "execution_count": 22,
   "id": "f5f8578e",
   "metadata": {},
   "outputs": [
    {
     "name": "stdout",
     "output_type": "stream",
     "text": [
      "There are \u001b[1m1\u001b[0m NA-sequences of length \u001b[1m4\u001b[0m\n",
      "There are \u001b[1m1\u001b[0m NA-sequences of length \u001b[1m6\u001b[0m\n",
      "There are \u001b[1m1\u001b[0m NA-sequences of length \u001b[1m7\u001b[0m\n",
      "There are \u001b[1m1\u001b[0m NA-sequences of length \u001b[1m12\u001b[0m\n",
      "There are \u001b[1m1\u001b[0m NA-sequences of length \u001b[1m14\u001b[0m\n",
      "There are \u001b[1m3\u001b[0m NA-sequences of length \u001b[1m16\u001b[0m\n",
      "There are \u001b[1m1\u001b[0m NA-sequences of length \u001b[1m17\u001b[0m\n",
      "There are \u001b[1m1\u001b[0m NA-sequences of length \u001b[1m23\u001b[0m\n",
      "There are \u001b[1m1\u001b[0m NA-sequences of length \u001b[1m24\u001b[0m\n",
      "There are \u001b[1m1\u001b[0m NA-sequences of length \u001b[1m26\u001b[0m\n",
      "There are \u001b[1m1\u001b[0m NA-sequences of length \u001b[1m31\u001b[0m\n"
     ]
    }
   ],
   "source": [
    "anomaly_mask = raw_data[\"Event\"]\n",
    "logging.basicConfig(level=logging.DEBUG)\n",
    "series = util.calculate_true_series(anomaly_mask)\n",
    "c = Counter(map(int, series[:, 1]))\n",
    "for length, count in sorted(c.items()):\n",
    "    print(f\"There are {util.bold(count)} NA-sequences of length {util.bold(length)}\")"
   ]
  },
  {
   "cell_type": "markdown",
   "id": "3cadd0b1",
   "metadata": {},
   "source": [
    "We see that the distribution is rather wide.\n",
    "We will approximate it using a normal distribution:"
   ]
  },
  {
   "cell_type": "code",
   "execution_count": 23,
   "id": "997e0f1c",
   "metadata": {},
   "outputs": [
    {
     "name": "stdout",
     "output_type": "stream",
     "text": [
      "Mean: 16.307692307692307, std: 7.759704746411381, overall percentage of anomalies: 0.0016002415458937198\n"
     ]
    }
   ],
   "source": [
    "anomaly_distribution_std = series[:, 1].std()\n",
    "anomaly_distribution_mean = series[:, 1].mean()\n",
    "anomaly_distribution_overall_percentage = series[:, 1].sum() / len(anomaly_mask)\n",
    "print(f\"Mean: {anomaly_distribution_mean}, std: {anomaly_distribution_std}, overall percentage of anomalies: {anomaly_distribution_overall_percentage}\")"
   ]
  },
  {
   "cell_type": "markdown",
   "id": "b07135e1",
   "metadata": {},
   "source": [
    "As we mentioned for taining, we need to get rid of all anomalies in the training data.\n",
    "To do this, we will set them to NaNs.\n",
    "We also standardize the data so all evaluation metrics are comparable."
   ]
  },
  {
   "cell_type": "code",
   "execution_count": 24,
   "id": "45e7c31b",
   "metadata": {},
   "outputs": [],
   "source": [
    "no_anomaly_data_not_std = util.remove_anomalies(raw_data)\n",
    "no_anomaly_data = (no_anomaly_data_not_std - no_anomaly_data_not_std.mean()) / no_anomaly_data_not_std.std()"
   ]
  },
  {
   "cell_type": "markdown",
   "id": "9351b4ca3f71f3cd",
   "metadata": {},
   "source": [
    "# Filling missing values\n",
    "We want to try and evaluate all methods separately. We will evaluate it using the RMSE analogously to the lecture.\n",
    "I.e., we will look for mostly intact segments, remove values arbitrarily, and then fill them using the methods.\n",
    "\n",
    "## Simple Filling\n",
    "Because filling values for one column is independent of the others, we can fill the missing values for each column separately in order to maximize the size of the validation set.\n",
    "Prior, we calculate the proportion of Na values in the entire column and delete the same\n",
    "proportion from our validation set.\n",
    "Assuming the missing values are uniformly randomly distributed, our calculated error will tend towards the true error of our method."
   ]
  },
  {
   "cell_type": "code",
   "execution_count": 25,
   "id": "18156b1e",
   "metadata": {},
   "outputs": [
    {
     "name": "stdout",
     "output_type": "stream",
     "text": [
      "Bounds when counting across all columns: (35136, 57480)\n",
      "Bounds per column: \n"
     ]
    },
    {
     "data": {
      "text/plain": [
       "{'Tp': (35136, 57916),\n",
       " 'pH': (36557, 59225),\n",
       " 'Cond': (36557, 59225),\n",
       " 'Turb': (36557, 58353),\n",
       " 'SAC': (35136, 57480),\n",
       " 'PFM': (36338, 59225)}"
      ]
     },
     "execution_count": 25,
     "metadata": {},
     "output_type": "execute_result"
    }
   ],
   "source": [
    "permitted_missing_values = 30\n",
    "bounds = {column: util.find_best_segment_in_series(no_anomaly_data[column], permitted_missing_values) for column in no_anomaly_data}\n",
    "all_columns_bounds = util.find_best_segment_in_series(no_anomaly_data, permitted_missing_values * len(no_anomaly_data.columns))\n",
    "print(\"Bounds when counting across all columns:\", all_columns_bounds)\n",
    "print(\"Bounds per column: \")\n",
    "bounds"
   ]
  },
  {
   "cell_type": "markdown",
   "id": "c466117d",
   "metadata": {},
   "source": [
    "In the following cell, we try all of the column–wise algorithms and measure their performance."
   ]
  },
  {
   "cell_type": "code",
   "execution_count": 26,
   "id": "e3fe5b320c2d5a44",
   "metadata": {
    "ExecuteTime": {
     "end_time": "2025-02-21T12:49:21.999973Z",
     "start_time": "2025-02-21T12:49:21.850668Z"
    }
   },
   "outputs": [
    {
     "data": {
      "text/html": [
       "<div>\n",
       "<style scoped>\n",
       "    .dataframe tbody tr th:only-of-type {\n",
       "        vertical-align: middle;\n",
       "    }\n",
       "\n",
       "    .dataframe tbody tr th {\n",
       "        vertical-align: top;\n",
       "    }\n",
       "\n",
       "    .dataframe thead th {\n",
       "        text-align: right;\n",
       "    }\n",
       "</style>\n",
       "<table border=\"1\" class=\"dataframe\">\n",
       "  <thead>\n",
       "    <tr style=\"text-align: right;\">\n",
       "      <th>Column</th>\n",
       "      <th>Tp</th>\n",
       "      <th>pH</th>\n",
       "      <th>Cond</th>\n",
       "      <th>Turb</th>\n",
       "      <th>SAC</th>\n",
       "      <th>PFM</th>\n",
       "    </tr>\n",
       "  </thead>\n",
       "  <tbody>\n",
       "    <tr>\n",
       "      <th>Best method</th>\n",
       "      <td>linear</td>\n",
       "      <td>linear</td>\n",
       "      <td>linear</td>\n",
       "      <td>linear</td>\n",
       "      <td>linear</td>\n",
       "      <td>linear</td>\n",
       "    </tr>\n",
       "    <tr>\n",
       "      <th>Best RMSE</th>\n",
       "      <td>0.006659</td>\n",
       "      <td>0.045297</td>\n",
       "      <td>0.018718</td>\n",
       "      <td>0.387761</td>\n",
       "      <td>0.024681</td>\n",
       "      <td>0.086772</td>\n",
       "    </tr>\n",
       "    <tr>\n",
       "      <th>RMSE linear</th>\n",
       "      <td>0.006659</td>\n",
       "      <td>0.045297</td>\n",
       "      <td>0.018718</td>\n",
       "      <td>0.387761</td>\n",
       "      <td>0.024681</td>\n",
       "      <td>0.086772</td>\n",
       "    </tr>\n",
       "    <tr>\n",
       "      <th>RMSE polynomial</th>\n",
       "      <td>0.015637</td>\n",
       "      <td>0.088151</td>\n",
       "      <td>0.033954</td>\n",
       "      <td>0.658161</td>\n",
       "      <td>0.06313</td>\n",
       "      <td>0.246152</td>\n",
       "    </tr>\n",
       "    <tr>\n",
       "      <th>RMSE spline</th>\n",
       "      <td>0.05679</td>\n",
       "      <td>0.456971</td>\n",
       "      <td>0.744683</td>\n",
       "      <td>0.728821</td>\n",
       "      <td>0.049718</td>\n",
       "      <td>0.201852</td>\n",
       "    </tr>\n",
       "    <tr>\n",
       "      <th>RMSE nearest</th>\n",
       "      <td>0.007747</td>\n",
       "      <td>0.069939</td>\n",
       "      <td>0.035889</td>\n",
       "      <td>0.482481</td>\n",
       "      <td>0.02795</td>\n",
       "      <td>0.098546</td>\n",
       "    </tr>\n",
       "    <tr>\n",
       "      <th>RMSE ffill</th>\n",
       "      <td>0.009382</td>\n",
       "      <td>0.124965</td>\n",
       "      <td>0.065208</td>\n",
       "      <td>0.47642</td>\n",
       "      <td>0.028255</td>\n",
       "      <td>0.099269</td>\n",
       "    </tr>\n",
       "    <tr>\n",
       "      <th>RMSE bfill</th>\n",
       "      <td>0.008598</td>\n",
       "      <td>0.112193</td>\n",
       "      <td>0.052519</td>\n",
       "      <td>0.449034</td>\n",
       "      <td>0.028074</td>\n",
       "      <td>0.09801</td>\n",
       "    </tr>\n",
       "    <tr>\n",
       "      <th># samples in Validation</th>\n",
       "      <td>22780</td>\n",
       "      <td>22668</td>\n",
       "      <td>22668</td>\n",
       "      <td>21796</td>\n",
       "      <td>22344</td>\n",
       "      <td>22887</td>\n",
       "    </tr>\n",
       "    <tr>\n",
       "      <th>% of NaN in entire column</th>\n",
       "      <td>0.064614</td>\n",
       "      <td>0.062802</td>\n",
       "      <td>0.061594</td>\n",
       "      <td>0.061896</td>\n",
       "      <td>0.060386</td>\n",
       "      <td>0.063708</td>\n",
       "    </tr>\n",
       "    <tr>\n",
       "      <th># Deleted for test set</th>\n",
       "      <td>2064</td>\n",
       "      <td>1982</td>\n",
       "      <td>1886</td>\n",
       "      <td>1812</td>\n",
       "      <td>1851</td>\n",
       "      <td>2003</td>\n",
       "    </tr>\n",
       "    <tr>\n",
       "      <th># NA in validation set</th>\n",
       "      <td>30</td>\n",
       "      <td>30</td>\n",
       "      <td>30</td>\n",
       "      <td>30</td>\n",
       "      <td>30</td>\n",
       "      <td>30</td>\n",
       "    </tr>\n",
       "  </tbody>\n",
       "</table>\n",
       "</div>"
      ],
      "text/plain": [
       "Column                           Tp        pH      Cond      Turb       SAC  \\\n",
       "Best method                  linear    linear    linear    linear    linear   \n",
       "Best RMSE                  0.006659  0.045297  0.018718  0.387761  0.024681   \n",
       "RMSE linear                0.006659  0.045297  0.018718  0.387761  0.024681   \n",
       "RMSE polynomial            0.015637  0.088151  0.033954  0.658161   0.06313   \n",
       "RMSE spline                 0.05679  0.456971  0.744683  0.728821  0.049718   \n",
       "RMSE nearest               0.007747  0.069939  0.035889  0.482481   0.02795   \n",
       "RMSE ffill                 0.009382  0.124965  0.065208   0.47642  0.028255   \n",
       "RMSE bfill                 0.008598  0.112193  0.052519  0.449034  0.028074   \n",
       "# samples in Validation       22780     22668     22668     21796     22344   \n",
       "% of NaN in entire column  0.064614  0.062802  0.061594  0.061896  0.060386   \n",
       "# Deleted for test set         2064      1982      1886      1812      1851   \n",
       "# NA in validation set           30        30        30        30        30   \n",
       "\n",
       "Column                          PFM  \n",
       "Best method                  linear  \n",
       "Best RMSE                  0.086772  \n",
       "RMSE linear                0.086772  \n",
       "RMSE polynomial            0.246152  \n",
       "RMSE spline                0.201852  \n",
       "RMSE nearest               0.098546  \n",
       "RMSE ffill                 0.099269  \n",
       "RMSE bfill                  0.09801  \n",
       "# samples in Validation       22887  \n",
       "% of NaN in entire column  0.063708  \n",
       "# Deleted for test set         2003  \n",
       "# NA in validation set           30  "
      ]
     },
     "execution_count": 26,
     "metadata": {},
     "output_type": "execute_result"
    }
   ],
   "source": [
    "importlib.reload(util)\n",
    "# Initialize a list to collect statistics for each column\n",
    "stats_list = []\n",
    "filled_data = pd.DataFrame(index=raw_data.index)\n",
    "for column in no_anomaly_data.columns:\n",
    "    # We multiply by 40 because otherwise, we would have very few\n",
    "    na_proportion = raw_data[column].isna().sum() / len(raw_data[column]) * 40\n",
    "    logging.debug(f\"Column: {column}, NA proportion: {na_proportion}\")\n",
    "\n",
    "    # Find the best segment\n",
    "    segment_bounds = bounds[column]\n",
    "    segment = no_anomaly_data[column].iloc[segment_bounds[0]:segment_bounds[1]]\n",
    "    segment_mv = util.simulate_missing_values(segment, na_proportion, anomaly_distribution_mean, anomaly_distribution_std, anomaly_distribution_overall_percentage)\n",
    "    \n",
    "    drop_count = round(len(segment) * na_proportion)\n",
    "    original_nans = segment.isnull()\n",
    "    added_nans = segment_mv.isnull() & ~original_nans\n",
    "\n",
    "    # Define interpolation methods\n",
    "    args = [\n",
    "        {'method': 'linear'},\n",
    "        {'method': 'polynomial', 'order': 2},\n",
    "        {'method': 'spline', 'order': 4},\n",
    "        {'method': 'nearest'}\n",
    "    ]\n",
    "\n",
    "    min_rmse = float('inf')\n",
    "    min_fill_function = None\n",
    "    min_name = None\n",
    "\n",
    "    # Function to calculate RMSE and update stats\n",
    "    rmse_methods = {}\n",
    "    def calc_rmse(name, fill_function):\n",
    "        global min_rmse, min_fill_function, min_name\n",
    "        filled = fill_function(segment_mv)\n",
    "        rmse = np.sqrt(mean_squared_error(segment[added_nans], filled[added_nans]))\n",
    "        # Store RMSE for this method in the stats dictionary\n",
    "        rmse_methods[f'RMSE {name}'] = rmse\n",
    "        if rmse < min_rmse:\n",
    "            min_rmse, min_fill_function, min_name = rmse, fill_function, name\n",
    "\n",
    "    # Calculate RMSE for each method\n",
    "    for a in args:\n",
    "        method_name = a.get('method')\n",
    "        # Capture 'a' in the lambda to avoid late binding\n",
    "        calc_rmse(method_name, lambda arr, a=a: arr.interpolate(**a))\n",
    "    calc_rmse(\"ffill\", lambda arr: arr.ffill())\n",
    "    calc_rmse(\"bfill\", lambda arr: arr.bfill())\n",
    "\n",
    "    filled_data[column] = min_fill_function(raw_data[column])\n",
    "\n",
    "    # Initialize stats dictionary for this column\n",
    "    stats = {\n",
    "        'Column': column,\n",
    "        'Best method': min_name,\n",
    "        'Best RMSE': min_rmse,\n",
    "        **rmse_methods,\n",
    "        '# samples in Validation': len(segment),\n",
    "        '% of NaN in entire column': na_proportion,\n",
    "        '# Deleted for test set': added_nans.sum(),\n",
    "        '# NA in validation set': segment.isna().sum()\n",
    "    }\n",
    "\n",
    "    stats_list.append(stats)\n",
    "\n",
    "# Create DataFrame from collected stats\n",
    "stats_df = pd.DataFrame(stats_list)\n",
    "\n",
    "# Optional: Set 'Column' as the index\n",
    "stats_df.set_index('Column', inplace=True)\n",
    "\n",
    "# Display the DataFrame\n",
    "stats_df.T"
   ]
  },
  {
   "cell_type": "markdown",
   "id": "30788ca78e7843f0",
   "metadata": {},
   "source": [
    "As you can see, for each column we calculate the percentage of missing values.\n",
    "Assuming an uniform distribution, we then calculate how many values to delete at random.\n",
    "\n",
    "Afterwards, we do the same for the anomaly distribution, where we already know the parameters of the normal distribution.\n",
    "\n",
    "Then, we can calculate the accuracy of the filling methods.\n",
    "\n",
    "This table shows the performance of each method as well as stats like the proportion of Na values in the column and the number of deleted samples for producing the test set with missing values.\n",
    "\n",
    "Now, we want to try Gaussian Processes as well.\n",
    "In contrast to the methods, we apply this for all columns at once."
   ]
  },
  {
   "cell_type": "code",
   "execution_count": 27,
   "id": "673fe7f2",
   "metadata": {},
   "outputs": [],
   "source": [
    "gp_segment = no_anomaly_data.iloc[all_columns_bounds[0]:all_columns_bounds[1]][:5000] # We take a subset of the data to speed up the calculations\n",
    "gp_segment_mv = util.simulate_missing_values(gp_segment, anomaly_distribution_overall_percentage, anomaly_distribution_mean, anomaly_distribution_std, anomaly_distribution_overall_percentage)\n",
    "gp_original_nans = gp_segment.isnull().to_numpy()\n",
    "gp_added_nans = gp_segment_mv.isnull().to_numpy() & ~gp_original_nans\n",
    "\n",
    "gp_segment_mv.reset_index(drop=True, inplace=True)\n",
    "gp_segment_mv.drop(\"Time\", axis=1, inplace=True, errors='ignore')\n",
    "gp_segment.reset_index(drop=True, inplace=True)\n",
    "gp_segment.drop(\"Time\", axis=1, inplace=True, errors='ignore')"
   ]
  },
  {
   "cell_type": "markdown",
   "id": "9aea349e",
   "metadata": {},
   "source": [
    "Having prepared the data with new missing values, we now perform the filling.\n",
    "For that, we train the process on all rows with no missing values.\n",
    "Afterwards, we predict entire rows containing at least one missing values and\n",
    "in the end, we calculate the RMSE between each cell which was filled and its original, correct value."
   ]
  },
  {
   "cell_type": "code",
   "execution_count": null,
   "id": "120009fe",
   "metadata": {},
   "outputs": [
    {
     "data": {
      "text/html": [
       "<div>\n",
       "<style scoped>\n",
       "    .dataframe tbody tr th:only-of-type {\n",
       "        vertical-align: middle;\n",
       "    }\n",
       "\n",
       "    .dataframe tbody tr th {\n",
       "        vertical-align: top;\n",
       "    }\n",
       "\n",
       "    .dataframe thead th {\n",
       "        text-align: right;\n",
       "    }\n",
       "</style>\n",
       "<table border=\"1\" class=\"dataframe\">\n",
       "  <thead>\n",
       "    <tr style=\"text-align: right;\">\n",
       "      <th>Column</th>\n",
       "      <th>Tp</th>\n",
       "      <th>pH</th>\n",
       "      <th>Cond</th>\n",
       "      <th>Turb</th>\n",
       "      <th>SAC</th>\n",
       "      <th>PFM</th>\n",
       "    </tr>\n",
       "  </thead>\n",
       "  <tbody>\n",
       "    <tr>\n",
       "      <th>Best method</th>\n",
       "      <td>linear</td>\n",
       "      <td>linear</td>\n",
       "      <td>linear</td>\n",
       "      <td>linear</td>\n",
       "      <td>linear</td>\n",
       "      <td>linear</td>\n",
       "    </tr>\n",
       "    <tr>\n",
       "      <th>Best RMSE</th>\n",
       "      <td>0.006659</td>\n",
       "      <td>0.045297</td>\n",
       "      <td>0.018718</td>\n",
       "      <td>0.387761</td>\n",
       "      <td>0.024681</td>\n",
       "      <td>0.086772</td>\n",
       "    </tr>\n",
       "    <tr>\n",
       "      <th>RMSE linear</th>\n",
       "      <td>0.006659</td>\n",
       "      <td>0.045297</td>\n",
       "      <td>0.018718</td>\n",
       "      <td>0.387761</td>\n",
       "      <td>0.024681</td>\n",
       "      <td>0.086772</td>\n",
       "    </tr>\n",
       "    <tr>\n",
       "      <th>RMSE polynomial</th>\n",
       "      <td>0.015637</td>\n",
       "      <td>0.088151</td>\n",
       "      <td>0.033954</td>\n",
       "      <td>0.658161</td>\n",
       "      <td>0.06313</td>\n",
       "      <td>0.246152</td>\n",
       "    </tr>\n",
       "    <tr>\n",
       "      <th>RMSE spline</th>\n",
       "      <td>0.05679</td>\n",
       "      <td>0.456971</td>\n",
       "      <td>0.744683</td>\n",
       "      <td>0.728821</td>\n",
       "      <td>0.049718</td>\n",
       "      <td>0.201852</td>\n",
       "    </tr>\n",
       "    <tr>\n",
       "      <th>RMSE nearest</th>\n",
       "      <td>0.007747</td>\n",
       "      <td>0.069939</td>\n",
       "      <td>0.035889</td>\n",
       "      <td>0.482481</td>\n",
       "      <td>0.02795</td>\n",
       "      <td>0.098546</td>\n",
       "    </tr>\n",
       "    <tr>\n",
       "      <th>RMSE ffill</th>\n",
       "      <td>0.009382</td>\n",
       "      <td>0.124965</td>\n",
       "      <td>0.065208</td>\n",
       "      <td>0.47642</td>\n",
       "      <td>0.028255</td>\n",
       "      <td>0.099269</td>\n",
       "    </tr>\n",
       "    <tr>\n",
       "      <th>RMSE bfill</th>\n",
       "      <td>0.008598</td>\n",
       "      <td>0.112193</td>\n",
       "      <td>0.052519</td>\n",
       "      <td>0.449034</td>\n",
       "      <td>0.028074</td>\n",
       "      <td>0.09801</td>\n",
       "    </tr>\n",
       "    <tr>\n",
       "      <th># samples in Validation</th>\n",
       "      <td>22780</td>\n",
       "      <td>22668</td>\n",
       "      <td>22668</td>\n",
       "      <td>21796</td>\n",
       "      <td>22344</td>\n",
       "      <td>22887</td>\n",
       "    </tr>\n",
       "    <tr>\n",
       "      <th>% of NaN in entire column</th>\n",
       "      <td>0.064614</td>\n",
       "      <td>0.062802</td>\n",
       "      <td>0.061594</td>\n",
       "      <td>0.061896</td>\n",
       "      <td>0.060386</td>\n",
       "      <td>0.063708</td>\n",
       "    </tr>\n",
       "    <tr>\n",
       "      <th># Deleted for test set</th>\n",
       "      <td>2064</td>\n",
       "      <td>1982</td>\n",
       "      <td>1886</td>\n",
       "      <td>1812</td>\n",
       "      <td>1851</td>\n",
       "      <td>2003</td>\n",
       "    </tr>\n",
       "    <tr>\n",
       "      <th># NA in validation set</th>\n",
       "      <td>30</td>\n",
       "      <td>30</td>\n",
       "      <td>30</td>\n",
       "      <td>30</td>\n",
       "      <td>30</td>\n",
       "      <td>30</td>\n",
       "    </tr>\n",
       "    <tr>\n",
       "      <th>GP</th>\n",
       "      <td>0.008579</td>\n",
       "      <td>0.074169</td>\n",
       "      <td>0.020006</td>\n",
       "      <td>0.159941</td>\n",
       "      <td>0.023619</td>\n",
       "      <td>0.071124</td>\n",
       "    </tr>\n",
       "  </tbody>\n",
       "</table>\n",
       "</div>"
      ],
      "text/plain": [
       "Column                           Tp        pH      Cond      Turb       SAC  \\\n",
       "Best method                  linear    linear    linear    linear    linear   \n",
       "Best RMSE                  0.006659  0.045297  0.018718  0.387761  0.024681   \n",
       "RMSE linear                0.006659  0.045297  0.018718  0.387761  0.024681   \n",
       "RMSE polynomial            0.015637  0.088151  0.033954  0.658161   0.06313   \n",
       "RMSE spline                 0.05679  0.456971  0.744683  0.728821  0.049718   \n",
       "RMSE nearest               0.007747  0.069939  0.035889  0.482481   0.02795   \n",
       "RMSE ffill                 0.009382  0.124965  0.065208   0.47642  0.028255   \n",
       "RMSE bfill                 0.008598  0.112193  0.052519  0.449034  0.028074   \n",
       "# samples in Validation       22780     22668     22668     21796     22344   \n",
       "% of NaN in entire column  0.064614  0.062802  0.061594  0.061896  0.060386   \n",
       "# Deleted for test set         2064      1982      1886      1812      1851   \n",
       "# NA in validation set           30        30        30        30        30   \n",
       "GP                         0.008579  0.074169  0.020006  0.159941  0.023619   \n",
       "\n",
       "Column                          PFM  \n",
       "Best method                  linear  \n",
       "Best RMSE                  0.086772  \n",
       "RMSE linear                0.086772  \n",
       "RMSE polynomial            0.246152  \n",
       "RMSE spline                0.201852  \n",
       "RMSE nearest               0.098546  \n",
       "RMSE ffill                 0.099269  \n",
       "RMSE bfill                  0.09801  \n",
       "# samples in Validation       22887  \n",
       "% of NaN in entire column  0.063708  \n",
       "# Deleted for test set         2003  \n",
       "# NA in validation set           30  \n",
       "GP                         0.071124  "
      ]
     },
     "execution_count": 59,
     "metadata": {},
     "output_type": "execute_result"
    }
   ],
   "source": [
    "from sklearn.gaussian_process import GaussianProcessRegressor\n",
    "from sklearn.gaussian_process.kernels import RBF, Matern, RationalQuadratic, WhiteKernel\n",
    "\n",
    "gp_reconstructed_segment = gp_segment_mv.copy()\n",
    "gp_all_nan_mask = gp_segment_mv.isnull()\n",
    "indices_with_missing_values = gp_all_nan_mask.any(axis=1).to_numpy()\n",
    "\n",
    "kernel_rbf = RBF(length_scale=1, length_scale_bounds=(1e-2, 1e2))\n",
    "kernel_matern = Matern(length_scale=1, length_scale_bounds=(1e-2, 1e2), nu=1.5)\n",
    "kernel_rq = RationalQuadratic(length_scale=1, alpha=1, length_scale_bounds=(1e-2, 1e2))\n",
    "kernel_rbf_white = RBF(length_scale=1, length_scale_bounds=(1e-2, 1e2)) + WhiteKernel(noise_level=1, noise_level_bounds=(1e-5, 1e1))\n",
    "\n",
    "gpr = GaussianProcessRegressor(kernel=kernel_rbf_white, n_restarts_optimizer=0)\n",
    "gpr.fit(gp_segment_mv.index.to_numpy()[~indices_with_missing_values].reshape(-1, 1), gp_segment_mv[~indices_with_missing_values])\n",
    "gp_filled_gaps = gpr.predict(gp_segment_mv.index.to_numpy()[indices_with_missing_values].reshape(-1, 1))\n",
    "\n",
    "gp_reconstructed_segment = gp_segment_mv.copy()\n",
    "gp_reconstructed_segment[indices_with_missing_values] = gp_filled_gaps\n",
    "\n",
    "true_values = gp_segment.iloc[gp_added_nans]\n",
    "predicted_values = gp_reconstructed_segment.iloc[gp_added_nans]\n",
    "mse = ((true_values - predicted_values) ** 2).mean()\n",
    "rmse_columns = np.sqrt(mse)\n",
    "\n",
    "stats_with_gp = stats_df.T.copy()\n",
    "stats_with_gp.loc['GP'] = rmse_columns\n",
    "\n",
    "stats_with_gp"
   ]
  },
  {
   "cell_type": "markdown",
   "id": "b711a06a",
   "metadata": {},
   "source": [
    "As we can see, the Gaussian Process performs better on some columns and worse on others.\n",
    "However, because it is so difficult and inperformant to train, we will just use the linear filling going forward."
   ]
  },
  {
   "cell_type": "markdown",
   "id": "13cdf164d8cf0d05",
   "metadata": {},
   "source": [
    "# Standardize the data"
   ]
  },
  {
   "cell_type": "code",
   "execution_count": 29,
   "id": "f213feae10209653",
   "metadata": {
    "ExecuteTime": {
     "end_time": "2025-02-21T12:49:22.060915Z",
     "start_time": "2025-02-21T12:49:22.030911Z"
    }
   },
   "outputs": [],
   "source": [
    "std_data = raw_data.copy()\n",
    "data_columns = list(std_data.columns[0:-1])\n",
    "std_data[data_columns] = (std_data[data_columns] - std_data[data_columns].mean()) / std_data[data_columns].std()\n",
    "std_data[\"Event\"] = std_data[\"Event\"].astype(int)"
   ]
  },
  {
   "cell_type": "markdown",
   "id": "43b9c8f5-c689-4c35-b0f0-85b104c90d3c",
   "metadata": {},
   "source": [
    "# Visualize the data\n",
    "## Heatmap over the whole timespan"
   ]
  },
  {
   "cell_type": "code",
   "execution_count": 30,
   "id": "40a0e90b1dccc1f2",
   "metadata": {
    "ExecuteTime": {
     "end_time": "2025-02-21T12:49:28.683832Z",
     "start_time": "2025-02-21T12:49:22.081002Z"
    }
   },
   "outputs": [
    {
     "data": {
      "image/png": "[encoded data removed]",
      "text/plain": [
       "<Figure size 1400x400 with 2 Axes>"
      ]
     },
     "metadata": {},
     "output_type": "display_data"
    }
   ],
   "source": [
    "import seaborn as sns\n",
    "import numpy as np\n",
    "import pandas as pd\n",
    "import matplotlib.pyplot as plt\n",
    "from matplotlib.colors import ListedColormap\n",
    "import matplotlib.dates as mdates\n",
    "\n",
    "fig, ax = plt.subplots(figsize=figsize)\n",
    "\n",
    "# Example data with 7 rows\n",
    "data = std_data.copy()\n",
    "data[data_columns] = data[data_columns].clip(-2, 2)\n",
    "data[\"Event\"] = data[\"Event\"].astype(int)\n",
    "events = data[data[\"Event\"] > 0]\n",
    "data['Event'] = data['Event'].rolling(window=151, center=True, min_periods=1).max()\n",
    "data.index = data.index.strftime('%m-%d')\n",
    "\n",
    "data = data.T\n",
    "\n",
    "# First mask: show only rows 0-5\n",
    "mask1 = np.zeros_like(data, dtype=bool)\n",
    "mask1[-1, :] = True  # hide last row\n",
    "\n",
    "# Second mask: show only the last row\n",
    "mask2 = np.ones_like(data, dtype=bool)\n",
    "mask2[-1, :] = False  # hide first 6 rows\n",
    "\n",
    "sns.heatmap(data, ax=ax, cmap=\"coolwarm\", mask=mask1)\n",
    "sns.heatmap(data, ax=ax, cmap=ListedColormap([\"white\", \"red\"]), mask=mask2, cbar=False)\n",
    "# ax.set_xticks(ax.get_xticks()[::2])\n",
    "# plt.xticks(rotation=45)\n",
    "\n",
    "plt.show()"
   ]
  },
  {
   "cell_type": "markdown",
   "id": "d2fe34891f645333",
   "metadata": {},
   "source": [
    "## Auto Correlation Plot"
   ]
  },
  {
   "cell_type": "code",
   "execution_count": 31,
   "id": "f8cb45c9456fe8c9",
   "metadata": {
    "ExecuteTime": {
     "end_time": "2025-02-21T12:51:13.193465Z",
     "start_time": "2025-02-21T12:49:28.728649Z"
    }
   },
   "outputs": [
    {
     "ename": "KeyError",
     "evalue": "\"['Event'] not found in axis\"",
     "output_type": "error",
     "traceback": [
      "\u001b[0;31m---------------------------------------------------------------------------\u001b[0m",
      "\u001b[0;31mKeyError\u001b[0m                                  Traceback (most recent call last)",
      "Cell \u001b[0;32mIn[31], line 1\u001b[0m\n\u001b[0;32m----> 1\u001b[0m filled_without_event \u001b[38;5;241m=\u001b[39m [filled_data[c] \u001b[38;5;28;01mfor\u001b[39;00m c \u001b[38;5;129;01min\u001b[39;00m \u001b[43mfilled_data\u001b[49m\u001b[38;5;241;43m.\u001b[39;49m\u001b[43mcolumns\u001b[49m\u001b[38;5;241;43m.\u001b[39;49m\u001b[43mdrop\u001b[49m\u001b[43m(\u001b[49m\u001b[38;5;124;43m\"\u001b[39;49m\u001b[38;5;124;43mEvent\u001b[39;49m\u001b[38;5;124;43m\"\u001b[39;49m\u001b[43m)\u001b[49m]\n\u001b[1;32m      2\u001b[0m \u001b[38;5;28mprint\u001b[39m(\u001b[38;5;124m\"\u001b[39m\u001b[38;5;124mAutocorrelation across 8 days:\u001b[39m\u001b[38;5;124m\"\u001b[39m)\n\u001b[1;32m      3\u001b[0m \u001b[38;5;66;03m#util.plot_multiple_autocorrelations(filled_without_event, timedelta(days=8) / sample_delta, (figsize[0], 6))\u001b[39;00m\n",
      "File \u001b[0;32m~/.cache/pypoetry/virtualenvs/anomaly_detection_for_contamination_detect-I_ojTiUE-py3.12/lib/python3.12/site-packages/pandas/core/indexes/base.py:7070\u001b[0m, in \u001b[0;36mIndex.drop\u001b[0;34m(self, labels, errors)\u001b[0m\n\u001b[1;32m   7068\u001b[0m \u001b[38;5;28;01mif\u001b[39;00m mask\u001b[38;5;241m.\u001b[39many():\n\u001b[1;32m   7069\u001b[0m     \u001b[38;5;28;01mif\u001b[39;00m errors \u001b[38;5;241m!=\u001b[39m \u001b[38;5;124m\"\u001b[39m\u001b[38;5;124mignore\u001b[39m\u001b[38;5;124m\"\u001b[39m:\n\u001b[0;32m-> 7070\u001b[0m         \u001b[38;5;28;01mraise\u001b[39;00m \u001b[38;5;167;01mKeyError\u001b[39;00m(\u001b[38;5;124mf\u001b[39m\u001b[38;5;124m\"\u001b[39m\u001b[38;5;132;01m{\u001b[39;00mlabels[mask]\u001b[38;5;241m.\u001b[39mtolist()\u001b[38;5;132;01m}\u001b[39;00m\u001b[38;5;124m not found in axis\u001b[39m\u001b[38;5;124m\"\u001b[39m)\n\u001b[1;32m   7071\u001b[0m     indexer \u001b[38;5;241m=\u001b[39m indexer[\u001b[38;5;241m~\u001b[39mmask]\n\u001b[1;32m   7072\u001b[0m \u001b[38;5;28;01mreturn\u001b[39;00m \u001b[38;5;28mself\u001b[39m\u001b[38;5;241m.\u001b[39mdelete(indexer)\n",
      "\u001b[0;31mKeyError\u001b[0m: \"['Event'] not found in axis\""
     ]
    }
   ],
   "source": [
    "%%capture --no-display expensive_output\n",
    "filled_without_event = [filled_data[c] for c in filled_data.columns.drop(\"Event\")]\n",
    "print(\"Autocorrelation across 8 days:\")\n",
    "#util.plot_multiple_autocorrelations(filled_without_event, timedelta(days=8) / sample_delta, (figsize[0], 6))\n",
    "print(\"Autocorrelation across the entire timespan:\")\n",
    "#util.plot_multiple_autocorrelations([filled_data[c] for c in filled_data.columns.drop(\"Event\")], figsize=(figsize[0], 6))"
   ]
  },
  {
   "cell_type": "markdown",
   "id": "83808f1c0f02bf5f",
   "metadata": {},
   "source": [
    "In the first plot, we see the autocorrelation zoomed in to 8 days. Here, we see that the `Cond`–column is the only one which shows a period (daily).\n",
    "However, we see that all columns instead of `Turb` are strongly temporally correlated, at least with regards to one forth of the values.\n",
    "In the latter plot, we can draw similar conclusions across a larger timeframe:\n",
    "\n",
    "- For `Tp`, `SAC` and less so `PFM`, we observe a strong temporal correlation and periodic behavior with a very long period.\n",
    "    Adding interpretation, we see that these columns correlate with the annual seasons.\n",
    "    This is most intuitive for the temperature of the water.\n",
    "- For `pH` and `Cond`, it seems that only one 4th of values are temporally correlated at maximum. They seem to be periodic with small and varying periods.\n",
    "- `Turb` seems neither periodic nor temporally correlated. There are spikes of correlation, which might indicate anomalies or noise, which have strong momentum with respect to the rest of the column.\n",
    "\n",
    "Indeed, the inter–column–correlation matrix roughly confirms these correlations:"
   ]
  },
  {
   "cell_type": "code",
   "execution_count": 32,
   "id": "e938fc64715ea261",
   "metadata": {
    "ExecuteTime": {
     "end_time": "2025-02-21T12:51:13.419625Z",
     "start_time": "2025-02-21T12:51:13.260027Z"
    }
   },
   "outputs": [
    {
     "data": {
      "image/png": "[encoded data removed]",
      "text/plain": [
       "<Figure size 800x600 with 2 Axes>"
      ]
     },
     "metadata": {},
     "output_type": "display_data"
    }
   ],
   "source": [
    "# Calculate the correlation matrix\n",
    "correlation_matrix = filled_data.corr()\n",
    "\n",
    "# Create a heatmap\n",
    "plt.figure(figsize=(8, 6))\n",
    "sns.heatmap(correlation_matrix, annot=True, cmap=\"coolwarm\", fmt=\".2f\")\n",
    "\n",
    "# Display the heatmap\n",
    "plt.title(\"Correlation Matrix Heatmap\")\n",
    "plt.show()"
   ]
  },
  {
   "cell_type": "markdown",
   "id": "609f8757",
   "metadata": {},
   "source": [
    "# Sliding Window\n",
    "Unfortunately, we do not see a single period across all columns but rather different periodic patterns. \n",
    "What we could do is augment the data with additional columns for each period we identify and expect our models\n",
    "to learn the association between the right data column and the right period column.\n",
    "\n",
    "However, this increases complexity and the model would additionally have to learn the correlations between the right columns and the right periods.\n",
    "\n",
    "On top of that, the period is very long, including tens of thousands of samples (expect for the daily period of `Cond`).\n",
    "Therefore, the information gained would not be large.\n",
    "\n",
    "We could add a column for the daily period. However, since the `Cond`–column is the only one gaining from that, we decide not to occupy ourselves with that.\n",
    "As such, we skip augmentation by period–columns entirely and instead implement the sliding window approach seen in the lecture."
   ]
  },
  {
   "cell_type": "code",
   "execution_count": 33,
   "id": "5d7df101",
   "metadata": {},
   "outputs": [],
   "source": [
    "%%capture --no-display expensive_output\n",
    "#util.plot_multiple_autocorrelations([filled_data[c] for c in filled_data.columns.drop(\"Event\")], timedelta(hours=1) / sample_delta, (figsize[0], 6))"
   ]
  },
  {
   "cell_type": "code",
   "execution_count": 34,
   "id": "318479a7",
   "metadata": {},
   "outputs": [],
   "source": [
    "window_length = 10\n",
    "aggregation_length = 50"
   ]
  },
  {
   "cell_type": "markdown",
   "id": "97bfde59",
   "metadata": {},
   "source": [
    "Here, we zoomed into yet more detail to determine the exact length of our windows.\n",
    "We will take `window_length` lags as window length.\n",
    "This should be more than enough to capture `pH` and `Turb`.\n",
    "\n",
    "The other three correlate for durations which are too long to capture them all.\n",
    "For this reason, we apply the aggregation technique from the lecture.\n",
    "In the lecture, we only applied this technique with non–overlapping bins.\n",
    "However, there is no reason we can't apply it windows as well.\n",
    "The computation is very expensive but we do not care.\n",
    "We use the metrics `Variance`, `Median` and `Average` over an arbitrarily but long enough chosen aggregation window of `aggregation_length` lags.\n",
    "The intuitive idea is to have those values indicate the \"underlying\" state of the columns\n",
    "over the `aggregation_length` samples in the environment of one sample.\n",
    "This shall help us because it might give an additional cue when the `window_length` values from the window might all stray away from\n",
    "this actual state that the column should have.\n",
    "\n",
    "The last element of the windows will be aligned.\n",
    "The longer aggregation windows will extend further into the past than the windows."
   ]
  },
  {
   "cell_type": "code",
   "execution_count": 35,
   "id": "d3196129",
   "metadata": {},
   "outputs": [
    {
     "ename": "KeyError",
     "evalue": "\"['Event'] not found in axis\"",
     "output_type": "error",
     "traceback": [
      "\u001b[0;31m---------------------------------------------------------------------------\u001b[0m",
      "\u001b[0;31mKeyError\u001b[0m                                  Traceback (most recent call last)",
      "Cell \u001b[0;32mIn[35], line 1\u001b[0m\n\u001b[0;32m----> 1\u001b[0m filled_without_event \u001b[38;5;241m=\u001b[39m \u001b[43mfilled_data\u001b[49m\u001b[38;5;241;43m.\u001b[39;49m\u001b[43mdrop\u001b[49m\u001b[43m(\u001b[49m\u001b[38;5;124;43m\"\u001b[39;49m\u001b[38;5;124;43mEvent\u001b[39;49m\u001b[38;5;124;43m\"\u001b[39;49m\u001b[43m,\u001b[49m\u001b[43m \u001b[49m\u001b[43maxis\u001b[49m\u001b[38;5;241;43m=\u001b[39;49m\u001b[38;5;241;43m1\u001b[39;49m\u001b[43m)\u001b[49m\n\u001b[1;32m      2\u001b[0m windows_data \u001b[38;5;241m=\u001b[39m util\u001b[38;5;241m.\u001b[39msliding_window(filled_without_event, window_length)\n\u001b[1;32m      3\u001b[0m aggregates \u001b[38;5;241m=\u001b[39m filled_without_event\u001b[38;5;241m.\u001b[39mrolling(window\u001b[38;5;241m=\u001b[39maggregation_length, min_periods\u001b[38;5;241m=\u001b[39m\u001b[38;5;241m1\u001b[39m)\u001b[38;5;241m.\u001b[39magg([\u001b[38;5;124m'\u001b[39m\u001b[38;5;124mvar\u001b[39m\u001b[38;5;124m'\u001b[39m, \u001b[38;5;124m'\u001b[39m\u001b[38;5;124mmedian\u001b[39m\u001b[38;5;124m'\u001b[39m, \u001b[38;5;124m'\u001b[39m\u001b[38;5;124mmean\u001b[39m\u001b[38;5;124m'\u001b[39m])\n",
      "File \u001b[0;32m~/.cache/pypoetry/virtualenvs/anomaly_detection_for_contamination_detect-I_ojTiUE-py3.12/lib/python3.12/site-packages/pandas/core/frame.py:5581\u001b[0m, in \u001b[0;36mDataFrame.drop\u001b[0;34m(self, labels, axis, index, columns, level, inplace, errors)\u001b[0m\n\u001b[1;32m   5433\u001b[0m \u001b[38;5;28;01mdef\u001b[39;00m\u001b[38;5;250m \u001b[39m\u001b[38;5;21mdrop\u001b[39m(\n\u001b[1;32m   5434\u001b[0m     \u001b[38;5;28mself\u001b[39m,\n\u001b[1;32m   5435\u001b[0m     labels: IndexLabel \u001b[38;5;241m|\u001b[39m \u001b[38;5;28;01mNone\u001b[39;00m \u001b[38;5;241m=\u001b[39m \u001b[38;5;28;01mNone\u001b[39;00m,\n\u001b[0;32m   (...)\u001b[0m\n\u001b[1;32m   5442\u001b[0m     errors: IgnoreRaise \u001b[38;5;241m=\u001b[39m \u001b[38;5;124m\"\u001b[39m\u001b[38;5;124mraise\u001b[39m\u001b[38;5;124m\"\u001b[39m,\n\u001b[1;32m   5443\u001b[0m ) \u001b[38;5;241m-\u001b[39m\u001b[38;5;241m>\u001b[39m DataFrame \u001b[38;5;241m|\u001b[39m \u001b[38;5;28;01mNone\u001b[39;00m:\n\u001b[1;32m   5444\u001b[0m \u001b[38;5;250m    \u001b[39m\u001b[38;5;124;03m\"\"\"\u001b[39;00m\n\u001b[1;32m   5445\u001b[0m \u001b[38;5;124;03m    Drop specified labels from rows or columns.\u001b[39;00m\n\u001b[1;32m   5446\u001b[0m \n\u001b[0;32m   (...)\u001b[0m\n\u001b[1;32m   5579\u001b[0m \u001b[38;5;124;03m            weight  1.0     0.8\u001b[39;00m\n\u001b[1;32m   5580\u001b[0m \u001b[38;5;124;03m    \"\"\"\u001b[39;00m\n\u001b[0;32m-> 5581\u001b[0m     \u001b[38;5;28;01mreturn\u001b[39;00m \u001b[38;5;28;43msuper\u001b[39;49m\u001b[43m(\u001b[49m\u001b[43m)\u001b[49m\u001b[38;5;241;43m.\u001b[39;49m\u001b[43mdrop\u001b[49m\u001b[43m(\u001b[49m\n\u001b[1;32m   5582\u001b[0m \u001b[43m        \u001b[49m\u001b[43mlabels\u001b[49m\u001b[38;5;241;43m=\u001b[39;49m\u001b[43mlabels\u001b[49m\u001b[43m,\u001b[49m\n\u001b[1;32m   5583\u001b[0m \u001b[43m        \u001b[49m\u001b[43maxis\u001b[49m\u001b[38;5;241;43m=\u001b[39;49m\u001b[43maxis\u001b[49m\u001b[43m,\u001b[49m\n\u001b[1;32m   5584\u001b[0m \u001b[43m        \u001b[49m\u001b[43mindex\u001b[49m\u001b[38;5;241;43m=\u001b[39;49m\u001b[43mindex\u001b[49m\u001b[43m,\u001b[49m\n\u001b[1;32m   5585\u001b[0m \u001b[43m        \u001b[49m\u001b[43mcolumns\u001b[49m\u001b[38;5;241;43m=\u001b[39;49m\u001b[43mcolumns\u001b[49m\u001b[43m,\u001b[49m\n\u001b[1;32m   5586\u001b[0m \u001b[43m        \u001b[49m\u001b[43mlevel\u001b[49m\u001b[38;5;241;43m=\u001b[39;49m\u001b[43mlevel\u001b[49m\u001b[43m,\u001b[49m\n\u001b[1;32m   5587\u001b[0m \u001b[43m        \u001b[49m\u001b[43minplace\u001b[49m\u001b[38;5;241;43m=\u001b[39;49m\u001b[43minplace\u001b[49m\u001b[43m,\u001b[49m\n\u001b[1;32m   5588\u001b[0m \u001b[43m        \u001b[49m\u001b[43merrors\u001b[49m\u001b[38;5;241;43m=\u001b[39;49m\u001b[43merrors\u001b[49m\u001b[43m,\u001b[49m\n\u001b[1;32m   5589\u001b[0m \u001b[43m    \u001b[49m\u001b[43m)\u001b[49m\n",
      "File \u001b[0;32m~/.cache/pypoetry/virtualenvs/anomaly_detection_for_contamination_detect-I_ojTiUE-py3.12/lib/python3.12/site-packages/pandas/core/generic.py:4788\u001b[0m, in \u001b[0;36mNDFrame.drop\u001b[0;34m(self, labels, axis, index, columns, level, inplace, errors)\u001b[0m\n\u001b[1;32m   4786\u001b[0m \u001b[38;5;28;01mfor\u001b[39;00m axis, labels \u001b[38;5;129;01min\u001b[39;00m axes\u001b[38;5;241m.\u001b[39mitems():\n\u001b[1;32m   4787\u001b[0m     \u001b[38;5;28;01mif\u001b[39;00m labels \u001b[38;5;129;01mis\u001b[39;00m \u001b[38;5;129;01mnot\u001b[39;00m \u001b[38;5;28;01mNone\u001b[39;00m:\n\u001b[0;32m-> 4788\u001b[0m         obj \u001b[38;5;241m=\u001b[39m \u001b[43mobj\u001b[49m\u001b[38;5;241;43m.\u001b[39;49m\u001b[43m_drop_axis\u001b[49m\u001b[43m(\u001b[49m\u001b[43mlabels\u001b[49m\u001b[43m,\u001b[49m\u001b[43m \u001b[49m\u001b[43maxis\u001b[49m\u001b[43m,\u001b[49m\u001b[43m \u001b[49m\u001b[43mlevel\u001b[49m\u001b[38;5;241;43m=\u001b[39;49m\u001b[43mlevel\u001b[49m\u001b[43m,\u001b[49m\u001b[43m \u001b[49m\u001b[43merrors\u001b[49m\u001b[38;5;241;43m=\u001b[39;49m\u001b[43merrors\u001b[49m\u001b[43m)\u001b[49m\n\u001b[1;32m   4790\u001b[0m \u001b[38;5;28;01mif\u001b[39;00m inplace:\n\u001b[1;32m   4791\u001b[0m     \u001b[38;5;28mself\u001b[39m\u001b[38;5;241m.\u001b[39m_update_inplace(obj)\n",
      "File \u001b[0;32m~/.cache/pypoetry/virtualenvs/anomaly_detection_for_contamination_detect-I_ojTiUE-py3.12/lib/python3.12/site-packages/pandas/core/generic.py:4830\u001b[0m, in \u001b[0;36mNDFrame._drop_axis\u001b[0;34m(self, labels, axis, level, errors, only_slice)\u001b[0m\n\u001b[1;32m   4828\u001b[0m         new_axis \u001b[38;5;241m=\u001b[39m axis\u001b[38;5;241m.\u001b[39mdrop(labels, level\u001b[38;5;241m=\u001b[39mlevel, errors\u001b[38;5;241m=\u001b[39merrors)\n\u001b[1;32m   4829\u001b[0m     \u001b[38;5;28;01melse\u001b[39;00m:\n\u001b[0;32m-> 4830\u001b[0m         new_axis \u001b[38;5;241m=\u001b[39m \u001b[43maxis\u001b[49m\u001b[38;5;241;43m.\u001b[39;49m\u001b[43mdrop\u001b[49m\u001b[43m(\u001b[49m\u001b[43mlabels\u001b[49m\u001b[43m,\u001b[49m\u001b[43m \u001b[49m\u001b[43merrors\u001b[49m\u001b[38;5;241;43m=\u001b[39;49m\u001b[43merrors\u001b[49m\u001b[43m)\u001b[49m\n\u001b[1;32m   4831\u001b[0m     indexer \u001b[38;5;241m=\u001b[39m axis\u001b[38;5;241m.\u001b[39mget_indexer(new_axis)\n\u001b[1;32m   4833\u001b[0m \u001b[38;5;66;03m# Case for non-unique axis\u001b[39;00m\n\u001b[1;32m   4834\u001b[0m \u001b[38;5;28;01melse\u001b[39;00m:\n",
      "File \u001b[0;32m~/.cache/pypoetry/virtualenvs/anomaly_detection_for_contamination_detect-I_ojTiUE-py3.12/lib/python3.12/site-packages/pandas/core/indexes/base.py:7070\u001b[0m, in \u001b[0;36mIndex.drop\u001b[0;34m(self, labels, errors)\u001b[0m\n\u001b[1;32m   7068\u001b[0m \u001b[38;5;28;01mif\u001b[39;00m mask\u001b[38;5;241m.\u001b[39many():\n\u001b[1;32m   7069\u001b[0m     \u001b[38;5;28;01mif\u001b[39;00m errors \u001b[38;5;241m!=\u001b[39m \u001b[38;5;124m\"\u001b[39m\u001b[38;5;124mignore\u001b[39m\u001b[38;5;124m\"\u001b[39m:\n\u001b[0;32m-> 7070\u001b[0m         \u001b[38;5;28;01mraise\u001b[39;00m \u001b[38;5;167;01mKeyError\u001b[39;00m(\u001b[38;5;124mf\u001b[39m\u001b[38;5;124m\"\u001b[39m\u001b[38;5;132;01m{\u001b[39;00mlabels[mask]\u001b[38;5;241m.\u001b[39mtolist()\u001b[38;5;132;01m}\u001b[39;00m\u001b[38;5;124m not found in axis\u001b[39m\u001b[38;5;124m\"\u001b[39m)\n\u001b[1;32m   7071\u001b[0m     indexer \u001b[38;5;241m=\u001b[39m indexer[\u001b[38;5;241m~\u001b[39mmask]\n\u001b[1;32m   7072\u001b[0m \u001b[38;5;28;01mreturn\u001b[39;00m \u001b[38;5;28mself\u001b[39m\u001b[38;5;241m.\u001b[39mdelete(indexer)\n",
      "\u001b[0;31mKeyError\u001b[0m: \"['Event'] not found in axis\""
     ]
    }
   ],
   "source": [
    "\n",
    "filled_without_event = filled_data.drop(\"Event\", axis=1)\n",
    "windows_data = util.sliding_window(filled_without_event, window_length)\n",
    "aggregates = filled_without_event.rolling(window=aggregation_length, min_periods=1).agg(['var', 'median', 'mean'])\n",
    "augmented_data = pd.concat([windows_data, aggregates.iloc[window_length-1:]], axis=1)\n",
    "augmented_data.columns = pd.MultiIndex.from_tuples([c if isinstance(c, tuple) else (\"window\", c) for c in augmented_data.columns])"
   ]
  },
  {
   "cell_type": "markdown",
   "id": "2212816f",
   "metadata": {},
   "source": [
    "# Cost Model\n",
    "In order to evaluate our results, we need to develop a cost model. However, this is challenging because there are various types of anomalies — microbial contamination, small leaks, issues that could potentially lead to catastrophic failure, and chemical contamination—all of which have different remedial actions, fines, and associated costs. Furthermore, assessing the cost of missing an anomaly is extremely difficult because it includes predicting future fines or accumulated failure avoided if a pipe was serviced after the our alarm.\n",
    "\n",
    "We will try anyway. In our cost model, we only want to consider the cost $c_{alarm}$ and $c_{miss}$, which is the cost of reacting to an alarm when there actually was no problem and the cost of missing an anomaly.\n",
    "\n",
    "According to [Home Advisor](https://sagesure.com/insurance-insights/who-pays-to-repair-a-water-service-line-break/#:~:text=According%20to%20Home%20Advisor%20the,repairs%20may%20total%20nearly%20%244%2C000), the average cost of water line repair is appoximately 1k€.\n",
    "\n",
    "With regards to water breaks, at the time of this writing, [watermainbreakclock.com](https://watermainbreakclock.com/#:~:text=The%20burden%20of%20old%20technology,related) cited 6,530,406 broken water mains and $65,304,060,752 in water main repair costs. This means on average, a water break costs roughly 10k€. However, since we do not know what percentage of anomalies lead to catastrophic failures, we are unable to measure the cost of one structural anomaly.\n",
    "\n",
    "The fines for contaminations in the water account [approximately](https://www.californiawaterviews.com/epa-announces-update-to-civil-monetary-penalties-impacts-on-water-providers#:~:text=,1%2C643%2C738%20for%20successful%20tampering) 60k€/day. Downscaling to our 5–minute–timescale, this roughly comes out to 208€/5 Minutes.\n",
    "As such, we can argue that missing a contamination anomaly is worth 208€ (Afterall, 5 minutes of servicing it earlier saves on average, this amount of money).\n",
    "\n",
    "At this point, we observe that the calculations are unreliable and riddled with assumptions.\n",
    "For this reason, we will not try to revise this cost model further.\n",
    "Instead, we will use the F1–norm."
   ]
  },
  {
   "cell_type": "code",
   "execution_count": null,
   "id": "188a4c7b",
   "metadata": {},
   "outputs": [
    {
     "ename": "NameError",
     "evalue": "name 'wind' is not defined",
     "output_type": "error",
     "traceback": [
      "\u001b[0;31m---------------------------------------------------------------------------\u001b[0m",
      "\u001b[0;31mNameError\u001b[0m                                 Traceback (most recent call last)",
      "Cell \u001b[0;32mIn[53], line 2\u001b[0m\n\u001b[1;32m      1\u001b[0m gm \u001b[38;5;241m=\u001b[39m GaussianMixture()\n\u001b[0;32m----> 2\u001b[0m gm\u001b[38;5;241m.\u001b[39mfit(\u001b[43mwind\u001b[49m)\n",
      "\u001b[0;31mNameError\u001b[0m: name 'wind' is not defined"
     ]
    }
   ],
   "source": [
    "gm = GaussianMixture()\n",
    "gm.fit(wind)"
   ]
  },
  {
   "cell_type": "markdown",
   "id": "471429d8bd578bfe",
   "metadata": {},
   "source": [
    "# Anomaly Detection\n",
    "## Kernel Density Estimation\n",
    "Since we just saw that the temporal correlation is strong and even periodic at times, we will augment the data with their timestamps as proper features."
   ]
  },
  {
   "cell_type": "code",
   "execution_count": null,
   "id": "afc2d1f14f7941cc",
   "metadata": {
    "ExecuteTime": {
     "end_time": "2025-02-21T12:51:13.583875Z",
     "start_time": "2025-02-21T12:51:13.462977Z"
    }
   },
   "outputs": [
    {
     "data": {
      "text/html": [
       "<style>#sk-container-id-1 {\n",
       "  /* Definition of color scheme common for light and dark mode */\n",
       "  --sklearn-color-text: #000;\n",
       "  --sklearn-color-text-muted: #666;\n",
       "  --sklearn-color-line: gray;\n",
       "  /* Definition of color scheme for unfitted estimators */\n",
       "  --sklearn-color-unfitted-level-0: #fff5e6;\n",
       "  --sklearn-color-unfitted-level-1: #f6e4d2;\n",
       "  --sklearn-color-unfitted-level-2: #ffe0b3;\n",
       "  --sklearn-color-unfitted-level-3: chocolate;\n",
       "  /* Definition of color scheme for fitted estimators */\n",
       "  --sklearn-color-fitted-level-0: #f0f8ff;\n",
       "  --sklearn-color-fitted-level-1: #d4ebff;\n",
       "  --sklearn-color-fitted-level-2: #b3dbfd;\n",
       "  --sklearn-color-fitted-level-3: cornflowerblue;\n",
       "\n",
       "  /* Specific color for light theme */\n",
       "  --sklearn-color-text-on-default-background: var(--sg-text-color, var(--theme-code-foreground, var(--jp-content-font-color1, black)));\n",
       "  --sklearn-color-background: var(--sg-background-color, var(--theme-background, var(--jp-layout-color0, white)));\n",
       "  --sklearn-color-border-box: var(--sg-text-color, var(--theme-code-foreground, var(--jp-content-font-color1, black)));\n",
       "  --sklearn-color-icon: #696969;\n",
       "\n",
       "  @media (prefers-color-scheme: dark) {\n",
       "    /* Redefinition of color scheme for dark theme */\n",
       "    --sklearn-color-text-on-default-background: var(--sg-text-color, var(--theme-code-foreground, var(--jp-content-font-color1, white)));\n",
       "    --sklearn-color-background: var(--sg-background-color, var(--theme-background, var(--jp-layout-color0, #111)));\n",
       "    --sklearn-color-border-box: var(--sg-text-color, var(--theme-code-foreground, var(--jp-content-font-color1, white)));\n",
       "    --sklearn-color-icon: #878787;\n",
       "  }\n",
       "}\n",
       "\n",
       "#sk-container-id-1 {\n",
       "  color: var(--sklearn-color-text);\n",
       "}\n",
       "\n",
       "#sk-container-id-1 pre {\n",
       "  padding: 0;\n",
       "}\n",
       "\n",
       "#sk-container-id-1 input.sk-hidden--visually {\n",
       "  border: 0;\n",
       "  clip: rect(1px 1px 1px 1px);\n",
       "  clip: rect(1px, 1px, 1px, 1px);\n",
       "  height: 1px;\n",
       "  margin: -1px;\n",
       "  overflow: hidden;\n",
       "  padding: 0;\n",
       "  position: absolute;\n",
       "  width: 1px;\n",
       "}\n",
       "\n",
       "#sk-container-id-1 div.sk-dashed-wrapped {\n",
       "  border: 1px dashed var(--sklearn-color-line);\n",
       "  margin: 0 0.4em 0.5em 0.4em;\n",
       "  box-sizing: border-box;\n",
       "  padding-bottom: 0.4em;\n",
       "  background-color: var(--sklearn-color-background);\n",
       "}\n",
       "\n",
       "#sk-container-id-1 div.sk-container {\n",
       "  /* jupyter's `normalize.less` sets `[hidden] { display: none; }`\n",
       "     but bootstrap.min.css set `[hidden] { display: none !important; }`\n",
       "     so we also need the `!important` here to be able to override the\n",
       "     default hidden behavior on the sphinx rendered scikit-learn.org.\n",
       "     See: https://github.com/scikit-learn/scikit-learn/issues/21755 */\n",
       "  display: inline-block !important;\n",
       "  position: relative;\n",
       "}\n",
       "\n",
       "#sk-container-id-1 div.sk-text-repr-fallback {\n",
       "  display: none;\n",
       "}\n",
       "\n",
       "div.sk-parallel-item,\n",
       "div.sk-serial,\n",
       "div.sk-item {\n",
       "  /* draw centered vertical line to link estimators */\n",
       "  background-image: linear-gradient(var(--sklearn-color-text-on-default-background), var(--sklearn-color-text-on-default-background));\n",
       "  background-size: 2px 100%;\n",
       "  background-repeat: no-repeat;\n",
       "  background-position: center center;\n",
       "}\n",
       "\n",
       "/* Parallel-specific style estimator block */\n",
       "\n",
       "#sk-container-id-1 div.sk-parallel-item::after {\n",
       "  content: \"\";\n",
       "  width: 100%;\n",
       "  border-bottom: 2px solid var(--sklearn-color-text-on-default-background);\n",
       "  flex-grow: 1;\n",
       "}\n",
       "\n",
       "#sk-container-id-1 div.sk-parallel {\n",
       "  display: flex;\n",
       "  align-items: stretch;\n",
       "  justify-content: center;\n",
       "  background-color: var(--sklearn-color-background);\n",
       "  position: relative;\n",
       "}\n",
       "\n",
       "#sk-container-id-1 div.sk-parallel-item {\n",
       "  display: flex;\n",
       "  flex-direction: column;\n",
       "}\n",
       "\n",
       "#sk-container-id-1 div.sk-parallel-item:first-child::after {\n",
       "  align-self: flex-end;\n",
       "  width: 50%;\n",
       "}\n",
       "\n",
       "#sk-container-id-1 div.sk-parallel-item:last-child::after {\n",
       "  align-self: flex-start;\n",
       "  width: 50%;\n",
       "}\n",
       "\n",
       "#sk-container-id-1 div.sk-parallel-item:only-child::after {\n",
       "  width: 0;\n",
       "}\n",
       "\n",
       "/* Serial-specific style estimator block */\n",
       "\n",
       "#sk-container-id-1 div.sk-serial {\n",
       "  display: flex;\n",
       "  flex-direction: column;\n",
       "  align-items: center;\n",
       "  background-color: var(--sklearn-color-background);\n",
       "  padding-right: 1em;\n",
       "  padding-left: 1em;\n",
       "}\n",
       "\n",
       "\n",
       "/* Toggleable style: style used for estimator/Pipeline/ColumnTransformer box that is\n",
       "clickable and can be expanded/collapsed.\n",
       "- Pipeline and ColumnTransformer use this feature and define the default style\n",
       "- Estimators will overwrite some part of the style using the `sk-estimator` class\n",
       "*/\n",
       "\n",
       "/* Pipeline and ColumnTransformer style (default) */\n",
       "\n",
       "#sk-container-id-1 div.sk-toggleable {\n",
       "  /* Default theme specific background. It is overwritten whether we have a\n",
       "  specific estimator or a Pipeline/ColumnTransformer */\n",
       "  background-color: var(--sklearn-color-background);\n",
       "}\n",
       "\n",
       "/* Toggleable label */\n",
       "#sk-container-id-1 label.sk-toggleable__label {\n",
       "  cursor: pointer;\n",
       "  display: flex;\n",
       "  width: 100%;\n",
       "  margin-bottom: 0;\n",
       "  padding: 0.5em;\n",
       "  box-sizing: border-box;\n",
       "  text-align: center;\n",
       "  align-items: start;\n",
       "  justify-content: space-between;\n",
       "  gap: 0.5em;\n",
       "}\n",
       "\n",
       "#sk-container-id-1 label.sk-toggleable__label .caption {\n",
       "  font-size: 0.6rem;\n",
       "  font-weight: lighter;\n",
       "  color: var(--sklearn-color-text-muted);\n",
       "}\n",
       "\n",
       "#sk-container-id-1 label.sk-toggleable__label-arrow:before {\n",
       "  /* Arrow on the left of the label */\n",
       "  content: \"▸\";\n",
       "  float: left;\n",
       "  margin-right: 0.25em;\n",
       "  color: var(--sklearn-color-icon);\n",
       "}\n",
       "\n",
       "#sk-container-id-1 label.sk-toggleable__label-arrow:hover:before {\n",
       "  color: var(--sklearn-color-text);\n",
       "}\n",
       "\n",
       "/* Toggleable content - dropdown */\n",
       "\n",
       "#sk-container-id-1 div.sk-toggleable__content {\n",
       "  max-height: 0;\n",
       "  max-width: 0;\n",
       "  overflow: hidden;\n",
       "  text-align: left;\n",
       "  /* unfitted */\n",
       "  background-color: var(--sklearn-color-unfitted-level-0);\n",
       "}\n",
       "\n",
       "#sk-container-id-1 div.sk-toggleable__content.fitted {\n",
       "  /* fitted */\n",
       "  background-color: var(--sklearn-color-fitted-level-0);\n",
       "}\n",
       "\n",
       "#sk-container-id-1 div.sk-toggleable__content pre {\n",
       "  margin: 0.2em;\n",
       "  border-radius: 0.25em;\n",
       "  color: var(--sklearn-color-text);\n",
       "  /* unfitted */\n",
       "  background-color: var(--sklearn-color-unfitted-level-0);\n",
       "}\n",
       "\n",
       "#sk-container-id-1 div.sk-toggleable__content.fitted pre {\n",
       "  /* unfitted */\n",
       "  background-color: var(--sklearn-color-fitted-level-0);\n",
       "}\n",
       "\n",
       "#sk-container-id-1 input.sk-toggleable__control:checked~div.sk-toggleable__content {\n",
       "  /* Expand drop-down */\n",
       "  max-height: 200px;\n",
       "  max-width: 100%;\n",
       "  overflow: auto;\n",
       "}\n",
       "\n",
       "#sk-container-id-1 input.sk-toggleable__control:checked~label.sk-toggleable__label-arrow:before {\n",
       "  content: \"▾\";\n",
       "}\n",
       "\n",
       "/* Pipeline/ColumnTransformer-specific style */\n",
       "\n",
       "#sk-container-id-1 div.sk-label input.sk-toggleable__control:checked~label.sk-toggleable__label {\n",
       "  color: var(--sklearn-color-text);\n",
       "  background-color: var(--sklearn-color-unfitted-level-2);\n",
       "}\n",
       "\n",
       "#sk-container-id-1 div.sk-label.fitted input.sk-toggleable__control:checked~label.sk-toggleable__label {\n",
       "  background-color: var(--sklearn-color-fitted-level-2);\n",
       "}\n",
       "\n",
       "/* Estimator-specific style */\n",
       "\n",
       "/* Colorize estimator box */\n",
       "#sk-container-id-1 div.sk-estimator input.sk-toggleable__control:checked~label.sk-toggleable__label {\n",
       "  /* unfitted */\n",
       "  background-color: var(--sklearn-color-unfitted-level-2);\n",
       "}\n",
       "\n",
       "#sk-container-id-1 div.sk-estimator.fitted input.sk-toggleable__control:checked~label.sk-toggleable__label {\n",
       "  /* fitted */\n",
       "  background-color: var(--sklearn-color-fitted-level-2);\n",
       "}\n",
       "\n",
       "#sk-container-id-1 div.sk-label label.sk-toggleable__label,\n",
       "#sk-container-id-1 div.sk-label label {\n",
       "  /* The background is the default theme color */\n",
       "  color: var(--sklearn-color-text-on-default-background);\n",
       "}\n",
       "\n",
       "/* On hover, darken the color of the background */\n",
       "#sk-container-id-1 div.sk-label:hover label.sk-toggleable__label {\n",
       "  color: var(--sklearn-color-text);\n",
       "  background-color: var(--sklearn-color-unfitted-level-2);\n",
       "}\n",
       "\n",
       "/* Label box, darken color on hover, fitted */\n",
       "#sk-container-id-1 div.sk-label.fitted:hover label.sk-toggleable__label.fitted {\n",
       "  color: var(--sklearn-color-text);\n",
       "  background-color: var(--sklearn-color-fitted-level-2);\n",
       "}\n",
       "\n",
       "/* Estimator label */\n",
       "\n",
       "#sk-container-id-1 div.sk-label label {\n",
       "  font-family: monospace;\n",
       "  font-weight: bold;\n",
       "  display: inline-block;\n",
       "  line-height: 1.2em;\n",
       "}\n",
       "\n",
       "#sk-container-id-1 div.sk-label-container {\n",
       "  text-align: center;\n",
       "}\n",
       "\n",
       "/* Estimator-specific */\n",
       "#sk-container-id-1 div.sk-estimator {\n",
       "  font-family: monospace;\n",
       "  border: 1px dotted var(--sklearn-color-border-box);\n",
       "  border-radius: 0.25em;\n",
       "  box-sizing: border-box;\n",
       "  margin-bottom: 0.5em;\n",
       "  /* unfitted */\n",
       "  background-color: var(--sklearn-color-unfitted-level-0);\n",
       "}\n",
       "\n",
       "#sk-container-id-1 div.sk-estimator.fitted {\n",
       "  /* fitted */\n",
       "  background-color: var(--sklearn-color-fitted-level-0);\n",
       "}\n",
       "\n",
       "/* on hover */\n",
       "#sk-container-id-1 div.sk-estimator:hover {\n",
       "  /* unfitted */\n",
       "  background-color: var(--sklearn-color-unfitted-level-2);\n",
       "}\n",
       "\n",
       "#sk-container-id-1 div.sk-estimator.fitted:hover {\n",
       "  /* fitted */\n",
       "  background-color: var(--sklearn-color-fitted-level-2);\n",
       "}\n",
       "\n",
       "/* Specification for estimator info (e.g. \"i\" and \"?\") */\n",
       "\n",
       "/* Common style for \"i\" and \"?\" */\n",
       "\n",
       ".sk-estimator-doc-link,\n",
       "a:link.sk-estimator-doc-link,\n",
       "a:visited.sk-estimator-doc-link {\n",
       "  float: right;\n",
       "  font-size: smaller;\n",
       "  line-height: 1em;\n",
       "  font-family: monospace;\n",
       "  background-color: var(--sklearn-color-background);\n",
       "  border-radius: 1em;\n",
       "  height: 1em;\n",
       "  width: 1em;\n",
       "  text-decoration: none !important;\n",
       "  margin-left: 0.5em;\n",
       "  text-align: center;\n",
       "  /* unfitted */\n",
       "  border: var(--sklearn-color-unfitted-level-1) 1pt solid;\n",
       "  color: var(--sklearn-color-unfitted-level-1);\n",
       "}\n",
       "\n",
       ".sk-estimator-doc-link.fitted,\n",
       "a:link.sk-estimator-doc-link.fitted,\n",
       "a:visited.sk-estimator-doc-link.fitted {\n",
       "  /* fitted */\n",
       "  border: var(--sklearn-color-fitted-level-1) 1pt solid;\n",
       "  color: var(--sklearn-color-fitted-level-1);\n",
       "}\n",
       "\n",
       "/* On hover */\n",
       "div.sk-estimator:hover .sk-estimator-doc-link:hover,\n",
       ".sk-estimator-doc-link:hover,\n",
       "div.sk-label-container:hover .sk-estimator-doc-link:hover,\n",
       ".sk-estimator-doc-link:hover {\n",
       "  /* unfitted */\n",
       "  background-color: var(--sklearn-color-unfitted-level-3);\n",
       "  color: var(--sklearn-color-background);\n",
       "  text-decoration: none;\n",
       "}\n",
       "\n",
       "div.sk-estimator.fitted:hover .sk-estimator-doc-link.fitted:hover,\n",
       ".sk-estimator-doc-link.fitted:hover,\n",
       "div.sk-label-container:hover .sk-estimator-doc-link.fitted:hover,\n",
       ".sk-estimator-doc-link.fitted:hover {\n",
       "  /* fitted */\n",
       "  background-color: var(--sklearn-color-fitted-level-3);\n",
       "  color: var(--sklearn-color-background);\n",
       "  text-decoration: none;\n",
       "}\n",
       "\n",
       "/* Span, style for the box shown on hovering the info icon */\n",
       ".sk-estimator-doc-link span {\n",
       "  display: none;\n",
       "  z-index: 9999;\n",
       "  position: relative;\n",
       "  font-weight: normal;\n",
       "  right: .2ex;\n",
       "  padding: .5ex;\n",
       "  margin: .5ex;\n",
       "  width: min-content;\n",
       "  min-width: 20ex;\n",
       "  max-width: 50ex;\n",
       "  color: var(--sklearn-color-text);\n",
       "  box-shadow: 2pt 2pt 4pt #999;\n",
       "  /* unfitted */\n",
       "  background: var(--sklearn-color-unfitted-level-0);\n",
       "  border: .5pt solid var(--sklearn-color-unfitted-level-3);\n",
       "}\n",
       "\n",
       ".sk-estimator-doc-link.fitted span {\n",
       "  /* fitted */\n",
       "  background: var(--sklearn-color-fitted-level-0);\n",
       "  border: var(--sklearn-color-fitted-level-3);\n",
       "}\n",
       "\n",
       ".sk-estimator-doc-link:hover span {\n",
       "  display: block;\n",
       "}\n",
       "\n",
       "/* \"?\"-specific style due to the `<a>` HTML tag */\n",
       "\n",
       "#sk-container-id-1 a.estimator_doc_link {\n",
       "  float: right;\n",
       "  font-size: 1rem;\n",
       "  line-height: 1em;\n",
       "  font-family: monospace;\n",
       "  background-color: var(--sklearn-color-background);\n",
       "  border-radius: 1rem;\n",
       "  height: 1rem;\n",
       "  width: 1rem;\n",
       "  text-decoration: none;\n",
       "  /* unfitted */\n",
       "  color: var(--sklearn-color-unfitted-level-1);\n",
       "  border: var(--sklearn-color-unfitted-level-1) 1pt solid;\n",
       "}\n",
       "\n",
       "#sk-container-id-1 a.estimator_doc_link.fitted {\n",
       "  /* fitted */\n",
       "  border: var(--sklearn-color-fitted-level-1) 1pt solid;\n",
       "  color: var(--sklearn-color-fitted-level-1);\n",
       "}\n",
       "\n",
       "/* On hover */\n",
       "#sk-container-id-1 a.estimator_doc_link:hover {\n",
       "  /* unfitted */\n",
       "  background-color: var(--sklearn-color-unfitted-level-3);\n",
       "  color: var(--sklearn-color-background);\n",
       "  text-decoration: none;\n",
       "}\n",
       "\n",
       "#sk-container-id-1 a.estimator_doc_link.fitted:hover {\n",
       "  /* fitted */\n",
       "  background-color: var(--sklearn-color-fitted-level-3);\n",
       "}\n",
       "</style><div id=\"sk-container-id-1\" class=\"sk-top-container\"><div class=\"sk-text-repr-fallback\"><pre>KernelDensity(bandwidth=1)</pre><b>In a Jupyter environment, please rerun this cell to show the HTML representation or trust the notebook. <br />On GitHub, the HTML representation is unable to render, please try loading this page with nbviewer.org.</b></div><div class=\"sk-container\" hidden><div class=\"sk-item\"><div class=\"sk-estimator fitted sk-toggleable\"><input class=\"sk-toggleable__control sk-hidden--visually\" id=\"sk-estimator-id-1\" type=\"checkbox\" checked><label for=\"sk-estimator-id-1\" class=\"sk-toggleable__label fitted sk-toggleable__label-arrow\"><div><div>KernelDensity</div></div><div><a class=\"sk-estimator-doc-link fitted\" rel=\"noreferrer\" target=\"_blank\" href=\"https://scikit-learn.org/1.6/modules/generated/sklearn.neighbors.KernelDensity.html\">?<span>Documentation for KernelDensity</span></a><span class=\"sk-estimator-doc-link fitted\">i<span>Fitted</span></span></div></label><div class=\"sk-toggleable__content fitted\"><pre>KernelDensity(bandwidth=1)</pre></div> </div></div></div></div>"
      ],
      "text/plain": [
       "KernelDensity(bandwidth=1)"
      ]
     },
     "execution_count": 15,
     "metadata": {},
     "output_type": "execute_result"
    }
   ],
   "source": [
    "timed_data = filled_data.copy()\n",
    "timed_data['Time'] = timed_data.index.hour + timed_data.index.minute / 60\n",
    "\n",
    "# Initialize the KDE model\n",
    "kde = KernelDensity(bandwidth=1, kernel='gaussian')\n",
    "kde.fit(timed_data)"
   ]
  },
  {
   "cell_type": "markdown",
   "id": "240bf833-d28b-4ae7-8cd8-36552c9ffcc9",
   "metadata": {},
   "source": [
    "## Test for markov property"
   ]
  },
  {
   "cell_type": "markdown",
   "id": "efc8215c-96ea-4670-b201-fa78f986f514",
   "metadata": {},
   "source": [
    "In the lectures, wen defined the alarm signal we strive to minimize:\n",
    "$$\n",
    "-\\log f(x, θ) \\geq ε\n",
    "$$\n",
    "where $$ f(x, θ) $$ is the true distribution function."
   ]
  },
  {
   "cell_type": "markdown",
   "id": "fc19049d-1bbf-444f-a1b5-6f4d056ec55c",
   "metadata": {},
   "source": [
    "## Investigation\n",
    "Determining the period:"
   ]
  },
  {
   "cell_type": "markdown",
   "id": "8aa5fbd0-a40d-4885-a430-24fefff51a5e",
   "metadata": {},
   "source": [
    "# Multivariate Kernel Density Estimation\n",
    "The first approach presented in the lecture is **Kernel Density Estimation**\n",
    "\n",
    "In order to employ **KDE**, we need to determine the optimal **Kernel Function** and **Bandwidth**. \n",
    "Since we have multiple columns, we cannot use the Rule Of Thumb for the latter. Therefore, we need to optimize the following term according to the lecture: \n",
    "$$\n",
    "\\mathop{\\arg\\max}_{h} \\mathbb{E}_{x \\sim f(x), \\bar{x} \\sim f(x)}\\left[ L(h, x, \\bar{x})\\right]\n",
    "$$\n",
    "where\n",
    "- $$\n",
    "L(h, x, \\bar{x}) = \\prod_{i=1}^m \\hat{f}(x_i, \\bar{x}_i, h)\n",
    "$$\n",
    "- $\\hat{f}$ is the density estimator (which outputs a probability)\n",
    "- $\\bar{x}$ the training set\n",
    "\n",
    "according to the lecture.\n"
   ]
  }
 ],
 "metadata": {
  "kernelspec": {
   "display_name": "anomaly_detection_for_contamination_detect-I_ojTiUE-py3.12",
   "language": "python",
   "name": "python3"
  },
  "language_info": {
   "codemirror_mode": {
    "name": "ipython",
    "version": 3
   },
   "file_extension": ".py",
   "mimetype": "text/x-python",
   "name": "python",
   "nbconvert_exporter": "python",
   "pygments_lexer": "ipython3",
   "version": "3.12.7"
  }
 },
 "nbformat": 4,
 "nbformat_minor": 5
}
